{
 "cells": [
  {
   "cell_type": "code",
   "execution_count": 1,
   "metadata": {},
   "outputs": [
    {
     "name": "stderr",
     "output_type": "stream",
     "text": [
      "/Users/shivanikohli/Documents/anaconda3/lib/python3.6/site-packages/h5py/__init__.py:34: FutureWarning: Conversion of the second argument of issubdtype from `float` to `np.floating` is deprecated. In future, it will be treated as `np.float64 == np.dtype(float).type`.\n",
      "  from ._conv import register_converters as _register_converters\n",
      "Using TensorFlow backend.\n"
     ]
    }
   ],
   "source": [
    "import numpy as np\n",
    "import keras\n",
    "import keras.backend as K\n",
    "import pandas as pd\n",
    "import matplotlib.pyplot as plt\n",
    "# import data_utils\n",
    "import time\n",
    "from keras.models import Sequential\n",
    "from keras.layers import Dense\n",
    "import tensorflow as tf\n",
    "import holidays\n",
    "%matplotlib inline\n",
    "%load_ext autoreload\n",
    "%autoreload 2"
   ]
  },
  {
   "cell_type": "code",
   "execution_count": 2,
   "metadata": {},
   "outputs": [],
   "source": [
    "data = pd.read_excel('GEFcom2014Data/GEFCom2014-E.xlsx', skiprows =range(1,17545))"
   ]
  },
  {
   "cell_type": "code",
   "execution_count": 3,
   "metadata": {},
   "outputs": [],
   "source": [
    "data['month'] = np.cos(2*np.pi*data.Date.dt.month / 12)\n",
    "data['dow'] = np.cos(2*np.pi*data.Date.dt.dayofweek / 7)\n",
    "data['hour'] = np.cos(2*np.pi*data.Date.dt.hour/24)\n",
    "us_holiday = holidays.US()\n",
    "data['is_holiday'] = 1 * data.Date.dt.date.apply(lambda x: x in us_holiday)\n",
    "data.drop(['Date', 'Hour'],1, inplace=True)\n",
    "c = list(data.columns)\n",
    "c = c[1:] + c[:1]\n",
    "data = data[c]\n",
    "scale = data.load.std()\n",
    "offset = data.load.mean()\n",
    "data.load = (data.load - offset) / scale\n",
    "# data['CDD'] =  np.maximum(data.Temperature-65,0)\n",
    "# data['HDD'] = np.maximum(65 - data.Temperature,0)"
   ]
  },
  {
   "cell_type": "code",
   "execution_count": 4,
   "metadata": {},
   "outputs": [],
   "source": [
    "train = data[:7*len(data)//8]\n",
    "val = data[3*len(data)//4:7*len(data)//8]\n",
    "test = data[7*len(data)//8:]\n",
    "nt = np.array(train)\n",
    "nv = np.array(val)\n",
    "ntt = np.array(test)\n",
    "x_train = nt[:,:-1]\n",
    "y_train = nt[:,-1]\n",
    "x_val = ntt[:,:-1]\n",
    "y_val = ntt[:,-1]"
   ]
  },
  {
   "cell_type": "code",
   "execution_count": 5,
   "metadata": {},
   "outputs": [],
   "source": [
    "def row2seq_rnn(data, ys, history=24, future = 0):\n",
    "    xl = []\n",
    "    xff = []\n",
    "    yl = []\n",
    "    yf = []\n",
    "    for i in np.arange(history+1, len(data)-max(future,1)):\n",
    "        tmp1 = data[i-history:i+1]\n",
    "        tmp2 = ys[i-history-1:i].reshape(-1,1)\n",
    "        xl.append(np.append(tmp1, tmp2, axis=1))\n",
    "        xff.append(data[i+1:i+future+1])\n",
    "        yl.append(ys[i])\n",
    "        yf.append(ys[i:i+future+1])\n",
    "    return np.array(xl), np.array(xff), np.array(yl), np.array(yf)"
   ]
  },
  {
   "cell_type": "code",
   "execution_count": 6,
   "metadata": {},
   "outputs": [],
   "source": [
    "xt, xtf, yt, ytf = row2seq_rnn(x_train, y_train, history=24, future=24)\n",
    "xv, xvf, yv, yvf = row2seq_rnn(x_val, y_val, history=48, future = 24)\n",
    "xtt, xttf, ytt, yttf = row2seq_rnn(np.array(test)[:,:-1], np.array(test)[:,-1], history=24, future=24)"
   ]
  },
  {
   "cell_type": "code",
   "execution_count": 7,
   "metadata": {},
   "outputs": [],
   "source": [
    "def batch_generator(*vars, size=768):\n",
    "    for i in range(0, min(len(v) for v in vars), size):\n",
    "        yield (v[i:i+size] for v in vars)"
   ]
  },
  {
   "cell_type": "code",
   "execution_count": 8,
   "metadata": {},
   "outputs": [],
   "source": [
    "bs = 768\n",
    "n_hidden = 32"
   ]
  },
  {
   "cell_type": "code",
   "execution_count": 9,
   "metadata": {},
   "outputs": [],
   "source": [
    "cond = lambda i, *_: i < 24\n",
    "def pinball(y_true, y_pred):\n",
    "    ts = (np.arange(1, 100, dtype=np.float32)/100).reshape(1,-1)\n",
    "    pin = (tf.maximum(y_true[:,None] - y_pred, 0) * ts +\n",
    "                 tf.maximum(y_pred - y_true[:,None], 0) * (1 - ts))\n",
    "    return pin\n",
    "def sample_body(i, s, preds):\n",
    "    tmp = tf.concat((xf[:,i], preds[:,-1:]), axis=1)\n",
    "    tmp.set_shape((None, xt.shape[-1]))\n",
    "    out, state = lstm(tmp, s)\n",
    "    new_pred = sample(tf.einsum('ij,jk->ik', out, out_weight) + out_bias)\n",
    "    return tf.add(i,1), state, tf.concat((preds, new_pred), axis=1)\n",
    "def predict_body(i, s, preds, loss):\n",
    "    tmp = tf.concat((xf[:,i], preds[:,-1:]), axis=1)\n",
    "    tmp.set_shape((None,xt.shape[-1]))\n",
    "    out, state = lstm(tmp, s)\n",
    "    new_pred = tf.einsum('ij,jk->ik', outputs[:,-1], out_weight) + out_bias\n",
    "    intermediate_loss = tf.reduce_mean(pinball(yf[:,i], new_pred))\n",
    "    return tf.add(i,1), state, tf.concat((preds, new_pred[:, 49, None]), axis=1), loss + intermediate_loss\n",
    "def sample(cdfs):\n",
    "    sample0 = tf.random_uniform((tf.shape(cdfs)[0],), minval=0,maxval=99,dtype=tf.int32,name=None)\n",
    "    tmp = tf.transpose(tf.stack((tf.range(tf.shape(x)[0]), sample0)))\n",
    "    tmp.set_shape((None,2))\n",
    "    tmp = tf.gather_nd(cdfs, tmp)[:,None]\n",
    "    tmp.set_shape((None, 1))\n",
    "    return tmp"
   ]
  },
  {
   "cell_type": "code",
   "execution_count": 22,
   "metadata": {},
   "outputs": [],
   "source": [
    "ew = lambda: tf.nn.rnn_cell.LSTMStateTuple(tf.TensorShape((None, 32)), tf.TensorShape((None, 32)))\n",
    "g = tf.Graph()\n",
    "with g.as_default():\n",
    "    x = tf.placeholder(tf.float32, (None, None, xt.shape[2]), name='x')\n",
    "    xf = tf.placeholder(tf.float32, (None, None, xtf.shape[2]), name='x_future')\n",
    "    y = tf.placeholder(tf.float32, (None), name='y')\n",
    "    yf = tf.placeholder(tf.float32, (None, None), name='y_future')\n",
    "    learning_rate = tf.placeholder_with_default(0.001, (), name='learning_rate')\n",
    "    out_weight = tf.Variable(tf.contrib.layers.xavier_initializer()((32, 99)), name='out_weight')\n",
    "    out_bias= tf.Variable(tf.zeros(99), name='out_bias')\n",
    "\n",
    "    lstm = tf.nn.rnn_cell.MultiRNNCell([tf.nn.rnn_cell.BasicLSTMCell(32) for _ in range(2)])\n",
    "    \n",
    "    outputs, state = tf.nn.dynamic_rnn(lstm, x, dtype=tf.float32)\n",
    "    \n",
    "    for ttt in state:\n",
    "        for tt in ttt:\n",
    "            tt.set_shape((None, 32))\n",
    "            \n",
    "    i0 = tf.constant(0)\n",
    "    l0 = tf.constant(0, dtype=tf.float32)\n",
    "    out0 = tf.add(tf.einsum('ij,jk->ik', outputs[:,-1], out_weight), out_bias, name='out0')\n",
    "    out00 = sample(out0)\n",
    "    \n",
    "    *_, losses = tf.while_loop(cond, predict_body, loop_vars=[i0, state, out0[:,49,None], l0],\n",
    "                        shape_invariants=[i0.get_shape(), \n",
    "                                          (ew(), ew()), tf.TensorShape([None, None]), l0.get_shape()])\n",
    "    _, _, predictions = tf.while_loop(cond, sample_body, loop_vars=[i0, state, out0],\n",
    "                        shape_invariants=[i0.get_shape(), \n",
    "                                          (ew(), ew()), tf.TensorShape([None, None])])\n",
    "    \n",
    "    future_opt = tf.train.AdamOptimizer(learning_rate).minimize(tf.reduce_mean(losses))\n",
    "    loss = tf.reduce_mean(pinball(y, out0))\n",
    "    train_op = tf.train.AdamOptimizer(learning_rate).minimize(loss)\n",
    "    \n",
    "    saver = tf.train.Saver()"
   ]
  },
  {
   "cell_type": "code",
   "execution_count": 23,
   "metadata": {},
   "outputs": [],
   "source": [
    "try:\n",
    "    while True:\n",
    "        tf.get_default_session().close()\n",
    "except:\n",
    "    pass\n",
    "sess = tf.InteractiveSession(graph=g)\n",
    "sess.run(tf.global_variables_initializer())"
   ]
  },
  {
   "cell_type": "code",
   "execution_count": 24,
   "metadata": {},
   "outputs": [],
   "source": [
    "def train_future_batch(lr=0.001, batch_size=bs):\n",
    "    perm = np.random.permutation(len(xt))\n",
    "    for xs, xfs, yfs in batch_generator(xt[perm], xtf[perm], ytf[perm], size=batch_size):\n",
    "        sess.run(future_opt, feed_dict={x:xs, xf: xfs, yf:yfs, learning_rate:lr})\n",
    "def train_batch(lr=0.001, batch_size=bs):\n",
    "    perm = np.random.permutation(len(xt))\n",
    "    for xs, ys in batch_generator(xt[perm], yt[perm], size=batch_size):\n",
    "        sess.run(train_op, feed_dict={x:xs, y:ys, learning_rate:lr})\n",
    "def evaluate(batch_size=bs):\n",
    "    ls = []\n",
    "    n = 0\n",
    "    perm = np.random.permutation(len(xv))\n",
    "    for xs, ys in batch_generator(xv[perm], yv[perm], size=batch_size):\n",
    "        ls.append(sess.run(loss, feed_dict={x:xs, y:ys})*len(xs))\n",
    "        n += len(xs)\n",
    "    return np.sum(ls)/n"
   ]
  },
  {
   "cell_type": "code",
   "execution_count": 25,
   "metadata": {},
   "outputs": [
    {
     "name": "stdout",
     "output_type": "stream",
     "text": [
      "Epoch 0 (10.125s): loss=0.27206, best loss=0.27206\n",
      "Epoch 1 (8.315s): loss=0.19567, best loss=0.19567\n",
      "Epoch 2 (13.459s): loss=0.17399, best loss=0.17399\n",
      "Epoch 3 (13.965s): loss=0.26485, best loss=0.17399\n",
      "Epoch 4 (10.161s): loss=0.28763, best loss=0.17399\n",
      "Epoch 5 (14.821s): loss=0.27453, best loss=0.17399\n",
      "Epoch 6 (12.104s): loss=0.26118, best loss=0.17399\n",
      "Epoch 7 (10.356s): loss=0.25617, best loss=0.17399\n",
      "Epoch 8 (10.706s): loss=0.24364, best loss=0.17399\n",
      "Epoch 9 (13.939s): loss=0.22432, best loss=0.17399\n"
     ]
    }
   ],
   "source": [
    "bs = 768\n",
    "err_list = []\n",
    "for i in range(len(err_list), 10):\n",
    "    start = time.time()\n",
    "    train_batch(lr=0.001)\n",
    "    err_list.append(evaluate())\n",
    "    if i>1 and err_list[-1] < min(err_list[:-1]):\n",
    "        saver.save(sess, 'GEFcom2014Models/')\n",
    "    end = time.time()\n",
    "    print(f'Epoch {i} ({end-start:.3f}s): loss={err_list[-1]:.5f}, best loss={min(err_list):.5f}')"
   ]
  },
  {
   "cell_type": "code",
   "execution_count": null,
   "metadata": {},
   "outputs": [],
   "source": [
    "count_list = []\n",
    "pin_list = []\n",
    "bins = [-1,1,10,20,30,40,50,60,70,80,90,99,101]\n",
    "for hour in range(24):\n",
    "    tau = (np.arange(1, 10, dtype=np.float32)/100).reshape(1,-1)\n",
    "    pin = np.mean(np.maximum(prediction[hour,:,:] - ytest[None,:,None], 0) * tau + np.maximum(ytest[None,:,None] - prediction[hour,:,:], 0) * (1 - tau), axis=(1))\n",
    "    pin_list.append(pin*scale)\n",
    "    counts, bins = np.histogram((prediction[hour,:,:]>ytest[None,:,None]).sum(1), bins=bins)\n",
    "    count_list.append(counts)\n",
    "count_array = np.array(count_list)"
   ]
  },
  {
   "cell_type": "code",
   "execution_count": 48,
   "metadata": {},
   "outputs": [],
   "source": [
    "def predict(bs):\n",
    "    l = []\n",
    "    for xs, xfs, ys in batch_generator(xtt, xttf,  ytt, size=bs):\n",
    "        l.append(sess.run(predictions, feed_dict={x:xs, xf:xfs, y:ys}))\n",
    "        print(np.array(l).shape)\n",
    "    return np.concatenate(l,axis = 0)"
   ]
  },
  {
   "cell_type": "code",
   "execution_count": 49,
   "metadata": {},
   "outputs": [
    {
     "name": "stdout",
     "output_type": "stream",
     "text": [
      "(1, 768, 123)\n",
      "(2, 768, 123)\n",
      "(3, 768, 123)\n",
      "(4, 768, 123)\n",
      "(5, 768, 123)\n",
      "(6, 768, 123)\n",
      "(7, 768, 123)\n",
      "(8, 768, 123)\n",
      "(9, 768, 123)\n",
      "(10, 768, 123)\n",
      "(11, 768, 123)\n",
      "(12, 768, 123)\n",
      "(13,)\n"
     ]
    }
   ],
   "source": [
    "prediction = predict(768)"
   ]
  },
  {
   "cell_type": "code",
   "execution_count": 33,
   "metadata": {},
   "outputs": [
    {
     "data": {
      "text/plain": [
       "(9812, 123)"
      ]
     },
     "execution_count": 33,
     "metadata": {},
     "output_type": "execute_result"
    }
   ],
   "source": [
    "prediction.shape"
   ]
  },
  {
   "cell_type": "code",
   "execution_count": null,
   "metadata": {},
   "outputs": [],
   "source": []
  }
 ],
 "metadata": {
  "kernelspec": {
   "display_name": "Python 3",
   "language": "python",
   "name": "python3"
  },
  "language_info": {
   "codemirror_mode": {
    "name": "ipython",
    "version": 3
   },
   "file_extension": ".py",
   "mimetype": "text/x-python",
   "name": "python",
   "nbconvert_exporter": "python",
   "pygments_lexer": "ipython3",
   "version": "3.6.3"
  }
 },
 "nbformat": 4,
 "nbformat_minor": 2
}
