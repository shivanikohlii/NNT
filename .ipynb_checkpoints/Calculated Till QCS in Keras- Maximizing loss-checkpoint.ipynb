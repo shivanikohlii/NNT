{
 "cells": [
  {
   "cell_type": "code",
   "execution_count": 1,
   "metadata": {},
   "outputs": [
    {
     "name": "stderr",
     "output_type": "stream",
     "text": [
      "/Users/shivanikohli/Documents/anaconda3/lib/python3.6/site-packages/h5py/__init__.py:34: FutureWarning: Conversion of the second argument of issubdtype from `float` to `np.floating` is deprecated. In future, it will be treated as `np.float64 == np.dtype(float).type`.\n",
      "  from ._conv import register_converters as _register_converters\n",
      "Using TensorFlow backend.\n"
     ]
    }
   ],
   "source": [
    "import numpy as np\n",
    "import keras\n",
    "import keras.backend as K\n",
    "import pandas as pd\n",
    "import matplotlib.pyplot as plt\n",
    "# import data_utils\n",
    "import time\n",
    "from keras.models import Sequential\n",
    "from keras.layers import Dense\n",
    "import tensorflow as tf\n",
    "import holidays\n",
    "%matplotlib inline\n",
    "%load_ext autoreload\n",
    "%autoreload 2"
   ]
  },
  {
   "cell_type": "code",
   "execution_count": 2,
   "metadata": {},
   "outputs": [],
   "source": [
    "data = pd.read_excel('GEFcom2014Data/GEFCom2014-E.xlsx', skiprows =range(1,17545))"
   ]
  },
  {
   "cell_type": "code",
   "execution_count": 3,
   "metadata": {},
   "outputs": [],
   "source": [
    "data['month'] = np.cos(2*np.pi*data.Date.dt.month / 12)\n",
    "data['dow'] = np.cos(2*np.pi*data.Date.dt.dayofweek / 7)\n",
    "data['hour'] = np.cos(2*np.pi*data.Date.dt.hour/24)\n",
    "us_holiday = holidays.US()\n",
    "data['is_holiday'] = 1 * data.Date.dt.date.apply(lambda x: x in us_holiday)\n",
    "data.drop(['Date', 'Hour'],1, inplace=True)\n",
    "c = list(data.columns)\n",
    "c = c[1:] + c[:1]\n",
    "data = data[c]\n",
    "c = list(data.columns)\n",
    "c = c[1:] + c[:1]\n",
    "data = data[c]\n",
    "data['CDD'] =  np.maximum(data.Temperature-65,0)\n",
    "data['HDD'] = np.maximum(65 - data.Temperature,0)\n",
    "scale = data.load.std()\n",
    "offset = data.load.mean()\n",
    "data.load = (data.load - offset) / scale"
   ]
  },
  {
   "cell_type": "code",
   "execution_count": 4,
   "metadata": {},
   "outputs": [],
   "source": [
    "train = data[:int(0.7*len(data))]\n",
    "val = data[int(0.7*len(data)):int(0.9*len(data))]\n",
    "test = data[int(0.9*len(data)):]\n",
    "nt = np.array(train)\n",
    "nv = np.array(val)\n",
    "ntest = np.array(test)\n",
    "x_train = nt[:,:-1]\n",
    "y_train = nt[:,-1]\n",
    "x_val = nv[:,:-1]\n",
    "y_val = nv[:,-1]\n",
    "x_test = ntest[:,:-1]\n",
    "y_test = ntest[:,-1]"
   ]
  },
  {
   "cell_type": "code",
   "execution_count": 5,
   "metadata": {},
   "outputs": [],
   "source": [
    "def row2seq_rnn(data, ys, history=24, future = 0):\n",
    "    xl = []\n",
    "    xff = []\n",
    "    yl = []\n",
    "    yf = []\n",
    "    for i in np.arange(history+1, len(data)-max(future,1)):\n",
    "        tmp1 = data[i-history:i+1]\n",
    "        tmp2 = ys[i-history-1:i].reshape(-1,1)\n",
    "        xl.append(np.append(tmp1, tmp2, axis=1))\n",
    "        xff.append(data[i+1:i+future+1])\n",
    "        yl.append(ys[i])\n",
    "        yf.append(ys[i:i+future])\n",
    "    return np.array(xl), np.array(xff), np.array(yl), np.array(yf)"
   ]
  },
  {
   "cell_type": "code",
   "execution_count": 6,
   "metadata": {},
   "outputs": [],
   "source": [
    "xt, xtf, yt, ytf = row2seq_rnn(x_train, y_train, history=24, future=24)\n",
    "#xv, xvf, yv, yvf = row2seq_rnn(x_val, y_val, history=24, future=24)\n",
    "xtt, xttf, ytt, yttf = row2seq_rnn(np.array(test)[:,:-1], np.array(test)[:,-1], history=24, future=24)\n"
   ]
  },
  {
   "cell_type": "code",
   "execution_count": 7,
   "metadata": {},
   "outputs": [
    {
     "data": {
      "text/plain": [
       "(7840, 24)"
      ]
     },
     "execution_count": 7,
     "metadata": {},
     "output_type": "execute_result"
    }
   ],
   "source": [
    "yttf.shape"
   ]
  },
  {
   "cell_type": "code",
   "execution_count": 8,
   "metadata": {},
   "outputs": [],
   "source": [
    "def pinball(y_true, y_pred, step =1):\n",
    "    ts = K.arange(step, 100, step, dtype=np.float32)/100\n",
    "    ts = K.reshape(ts,(1,-1))\n",
    "    y_true = K.reshape(y_true,(-1,1)) \n",
    "    pin = K.mean(K.maximum(y_true - y_pred, 0) * ts +\n",
    "                 K.maximum(y_pred - y_true, 0) * (1 - ts))\n",
    "    return pin"
   ]
  },
  {
   "cell_type": "code",
   "execution_count": 9,
   "metadata": {},
   "outputs": [],
   "source": [
    "layer = 2\n",
    "hiddenU = 32\n",
    "val_dictionary = {}\n",
    "\n",
    "model = keras.models.Sequential(name = 'LSTM')\n",
    "model.add(keras.layers.LSTM(hiddenU, input_shape = xt.shape[1:], return_sequences = layer > 1))\n",
    "\n",
    "for i in range(layer-1):\n",
    "    model.add(keras.layers.LSTM(hiddenU, return_sequences = i < layer-2))\n",
    "model.add(Dense(99))\n",
    "adam = keras.optimizers.Adam(lr=0.001, beta_1=0.9, beta_2=0.999, epsilon=1e-08, decay=1e-4)\n",
    "model.compile(loss=lambda y, yp: pinball(y, yp, 1), optimizer = 'adam')"
   ]
  },
  {
   "cell_type": "code",
   "execution_count": 42,
   "metadata": {
    "collapsed": true
   },
   "outputs": [
    {
     "name": "stdout",
     "output_type": "stream",
     "text": [
      "Train on 55172 samples, validate on 15729 samples\n",
      "Epoch 1/10\n",
      "55172/55172 [==============================] - 5s 85us/step - loss: 23.1803 - val_loss: 23.7216\n",
      "Epoch 2/10\n",
      "55172/55172 [==============================] - 4s 68us/step - loss: 21.3743 - val_loss: 21.4709\n",
      "Epoch 3/10\n",
      "55172/55172 [==============================] - 3s 63us/step - loss: 19.6275 - val_loss: 20.0285\n",
      "Epoch 4/10\n",
      "55172/55172 [==============================] - 4s 71us/step - loss: 18.2649 - val_loss: 18.7291\n",
      "Epoch 5/10\n",
      "55172/55172 [==============================] - 4s 64us/step - loss: 17.0024 - val_loss: 17.5040\n",
      "Epoch 6/10\n",
      "55172/55172 [==============================] - 4s 67us/step - loss: 15.8047 - val_loss: 16.3354\n",
      "Epoch 7/10\n",
      "55172/55172 [==============================] - 4s 69us/step - loss: 14.6615 - val_loss: 15.2138\n",
      "Epoch 8/10\n",
      "55172/55172 [==============================] - 4s 70us/step - loss: 13.5705 - val_loss: 14.1358\n",
      "Epoch 9/10\n",
      "55172/55172 [==============================] - 4s 72us/step - loss: 12.5319 - val_loss: 13.1061\n",
      "Epoch 10/10\n",
      "55172/55172 [==============================] - 4s 74us/step - loss: 11.5465 - val_loss: 12.1254\n"
     ]
    }
   ],
   "source": [
    "hist = model.fit(xt, yt, validation_data=(xv, yv), batch_size=768, epochs=100, verbose=True, callbacks=[keras.callbacks.ModelCheckpoint(\n",
    "'Weights/%s', save_best_only=True, save_weights_only=True)\n",
    "  , keras.callbacks.EarlyStopping(patience=20)])\n",
    "best_val = min(hist.history['val_loss'])"
   ]
  },
  {
   "cell_type": "code",
   "execution_count": 43,
   "metadata": {
    "collapsed": true
   },
   "outputs": [
    {
     "name": "stdout",
     "output_type": "stream",
     "text": [
      "(7840, 99)\n",
      "(7840, 99)\n",
      "(7840, 99)\n",
      "(7840, 99)\n",
      "(7840, 99)\n",
      "(7840, 99)\n",
      "(7840, 99)\n",
      "(7840, 99)\n",
      "(7840, 99)\n",
      "(7840, 99)\n",
      "(7840, 99)\n",
      "(7840, 99)\n",
      "(7840, 99)\n",
      "(7840, 99)\n",
      "(7840, 99)\n",
      "(7840, 99)\n",
      "(7840, 99)\n",
      "(7840, 99)\n",
      "(7840, 99)\n",
      "(7840, 99)\n",
      "(7840, 99)\n",
      "(7840, 99)\n",
      "(7840, 99)\n",
      "(7840, 99)\n"
     ]
    }
   ],
   "source": [
    "predictions = []\n",
    "for i in range(24):\n",
    "    preds = model.predict(xtt, batch_size= 768)\n",
    "    predictions.append(preds)\n",
    "    "
   ]
  },
  {
   "cell_type": "code",
   "execution_count": 46,
   "metadata": {},
   "outputs": [
    {
     "data": {
      "text/plain": [
       "(7840, 24, 99)"
      ]
     },
     "execution_count": 46,
     "metadata": {},
     "output_type": "execute_result"
    }
   ],
   "source": [
    "prediction = np.array(predictions)\n",
    "prediction = prediction.reshape(7840,24,99)\n",
    "prediction.shape"
   ]
  },
  {
   "cell_type": "code",
   "execution_count": 52,
   "metadata": {},
   "outputs": [],
   "source": [
    "def gets_target_value(history =24, future = 24):\n",
    "    xtest2,xtf,yttf, ytest2 = row2seq_rnn(np.array(test)[:,:-1], np.array(test)[:,-1], history+future)\n",
    "    targets = []\n",
    "    for i in range(future):\n",
    "        targets.append(xtest2[:,history+1+i, -1].copy())\n",
    "    return np.array(targets).T"
   ]
  },
  {
   "cell_type": "code",
   "execution_count": 53,
   "metadata": {},
   "outputs": [],
   "source": [
    "target_used = gets_target_value(history = 24,future = 24)"
   ]
  },
  {
   "cell_type": "code",
   "execution_count": 63,
   "metadata": {},
   "outputs": [],
   "source": [
    "target_used = yttf \n"
   ]
  },
  {
   "cell_type": "code",
   "execution_count": 64,
   "metadata": {},
   "outputs": [
    {
     "name": "stdout",
     "output_type": "stream",
     "text": [
      "iteration for time 0\n",
      "iteration for time 1\n",
      "iteration for time 2\n",
      "iteration for time 3\n",
      "iteration for time 4\n",
      "iteration for time 5\n",
      "iteration for time 6\n",
      "iteration for time 7\n",
      "iteration for time 8\n",
      "iteration for time 9\n",
      "iteration for time 10\n",
      "iteration for time 11\n",
      "iteration for time 12\n",
      "iteration for time 13\n",
      "iteration for time 14\n",
      "iteration for time 15\n",
      "iteration for time 16\n",
      "iteration for time 17\n",
      "iteration for time 18\n",
      "iteration for time 19\n",
      "iteration for time 20\n",
      "iteration for time 21\n",
      "iteration for time 22\n",
      "iteration for time 23\n"
     ]
    }
   ],
   "source": [
    "count_list = []\n",
    "pin_list = []\n",
    "bins = [-1,1,10,20,30,40,50,60,70,80,90,99,101]\n",
    "for hour in range(24):\n",
    "    ts = (np.arange(1, 100, dtype=np.float32)/100).reshape(1,-1)\n",
    "    pin = np.mean(np.maximum(prediction[:,hour,:] - target_used[:,hour,None], 0) * ts + np.maximum(target_used[:,hour,None] - prediction[:,hour,:], 0) * (1 - ts), axis=(0))\n",
    "    pin_list.append(pin*scale)\n",
    "    counts, bins = np.histogram((prediction[:,hour,:]>target_used[:,hour,None]).sum(1), bins=bins)\n",
    "    count_list.append(counts)\n",
    "    print('iteration for time %d' %hour)\n",
    "count_array = np.array(count_list)"
   ]
  },
  {
   "cell_type": "code",
   "execution_count": 65,
   "metadata": {},
   "outputs": [],
   "source": [
    "def qcs(expected, observed):\n",
    "    return ((observed-expected)**2/expected/len(expected)).sum(0)"
   ]
  },
  {
   "cell_type": "code",
   "execution_count": 66,
   "metadata": {},
   "outputs": [
    {
     "name": "stdout",
     "output_type": "stream",
     "text": [
      "50373.512117346945\n",
      "50245.893707483\n",
      "50137.35403675359\n",
      "50103.471088435384\n",
      "49988.027754157236\n",
      "49861.18488992819\n",
      "49848.069881424795\n",
      "49743.29735922147\n",
      "49841.02591175359\n",
      "49838.150947184426\n",
      "49816.145431783836\n",
      "49788.52135298564\n",
      "49775.341151738474\n",
      "49944.43807870371\n",
      "49912.519864890404\n",
      "49910.97028533637\n",
      "49951.85465088813\n",
      "50019.286411092224\n",
      "50036.612988945584\n",
      "50054.021849017394\n",
      "50051.18622448979\n",
      "50089.462585034016\n",
      "50124.748133975816\n",
      "50301.67041052533\n"
     ]
    }
   ],
   "source": [
    "n_examples = count_array.sum(1)[0]\n",
    "half_of_the_bins = [0.01,0.09, 0.1,0.1,0.1,0.1,0.1,0.1,0.1,0.1,0.09,0.01]\n",
    "prob_bins = np.array(half_of_the_bins)\n",
    "for i in range(24):\n",
    "    print(qcs(prob_bins*n_examples, count_array[i]))"
   ]
  },
  {
   "cell_type": "code",
   "execution_count": 67,
   "metadata": {},
   "outputs": [
    {
     "data": {
      "text/plain": [
       "(-0.5125, 9.4875)"
      ]
     },
     "execution_count": 67,
     "metadata": {},
     "output_type": "execute_result"
    },
    {
     "data": {
      "image/png": "[encoded data removed]",
      "text/plain": [
       "<matplotlib.figure.Figure at 0x1833c3d2e8>"
      ]
     },
     "metadata": {},
     "output_type": "display_data"
    }
   ],
   "source": [
    "plt.figure(figsize=(20,11))\n",
    "t = 0\n",
    "plt.bar(np.arange(12), count_array.sum(0)/count_array.sum(), width=0.975, align='center', color = '#003366' )\n",
    "# plt.xticks(range(10), [f'{i}% - {i+10}%' for i in range(0,110,10)])\n",
    "plt.xlabel('Quantile')\n",
    "plt.ylabel('Normalized Frequency')\n",
    "plt.plot((-0.6, 0.6), (0.01, 0.01), color='r', lw=3)\n",
    "plt.plot((11-0.6, 11+0.6), (0.01, 0.01), color='r', lw=3)\n",
    "plt.plot((1-0.6, 1+0.6), (0.09, 0.09), color='r', lw=3)\n",
    "plt.plot((10-0.6, 10+0.6), (0.09, 0.09), color='r', lw=3)\n",
    "# plt.ylim(0,.045)\n",
    "for i in range(0,10):\n",
    "    plt.plot((i-0.6, i+0.6), (0.1, 0.1), color='#FFCC00', lw=3)\n",
    "# plt.plot((-100000, 100000), (0.1, 0.1), color='#FFCC00', lw=5)\n",
    "plt.xlim(-0.5 - 0.025/2,9.5- 0.025/2)"
   ]
  },
  {
   "cell_type": "code",
   "execution_count": 69,
   "metadata": {},
   "outputs": [
    {
     "ename": "TypeError",
     "evalue": "list indices must be integers or slices, not tuple",
     "output_type": "error",
     "traceback": [
      "\u001b[0;31m---------------------------------------------------------------------------\u001b[0m",
      "\u001b[0;31mTypeError\u001b[0m                                 Traceback (most recent call last)",
      "\u001b[0;32m<ipython-input-69-94654965a80a>\u001b[0m in \u001b[0;36m<module>\u001b[0;34m()\u001b[0m\n\u001b[0;32m----> 1\u001b[0;31m \u001b[0mplt\u001b[0m\u001b[0;34m.\u001b[0m\u001b[0mplot\u001b[0m\u001b[0;34m(\u001b[0m\u001b[0mpredictions\u001b[0m\u001b[0;34m[\u001b[0m\u001b[0;34m:\u001b[0m\u001b[0;34m,\u001b[0m\u001b[0;36m1\u001b[0m\u001b[0;34m,\u001b[0m\u001b[0;34m:\u001b[0m\u001b[0;34m]\u001b[0m\u001b[0;34m)\u001b[0m\u001b[0;34m\u001b[0m\u001b[0m\n\u001b[0m",
      "\u001b[0;31mTypeError\u001b[0m: list indices must be integers or slices, not tuple"
     ]
    }
   ],
   "source": [
    "plt.plot(predictions[:,1])"
   ]
  },
  {
   "cell_type": "code",
   "execution_count": null,
   "metadata": {},
   "outputs": [],
   "source": []
  }
 ],
 "metadata": {
  "kernelspec": {
   "display_name": "Python 3",
   "language": "python",
   "name": "python3"
  },
  "language_info": {
   "codemirror_mode": {
    "name": "ipython",
    "version": 3
   },
   "file_extension": ".py",
   "mimetype": "text/x-python",
   "name": "python",
   "nbconvert_exporter": "python",
   "pygments_lexer": "ipython3",
   "version": "3.6.3"
  }
 },
 "nbformat": 4,
 "nbformat_minor": 2
}
