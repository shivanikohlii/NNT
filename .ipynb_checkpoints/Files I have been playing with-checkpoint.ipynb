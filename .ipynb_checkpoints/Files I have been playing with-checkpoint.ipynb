{
 "cells": [
  {
   "cell_type": "code",
   "execution_count": 1,
   "metadata": {},
   "outputs": [
    {
     "name": "stderr",
     "output_type": "stream",
     "text": [
      "/Users/shivanikohli/Documents/anaconda3/lib/python3.6/site-packages/h5py/__init__.py:34: FutureWarning: Conversion of the second argument of issubdtype from `float` to `np.floating` is deprecated. In future, it will be treated as `np.float64 == np.dtype(float).type`.\n",
      "  from ._conv import register_converters as _register_converters\n",
      "Using TensorFlow backend.\n"
     ]
    }
   ],
   "source": [
    "import numpy as np\n",
    "import keras\n",
    "import keras.backend as K\n",
    "import pandas as pd\n",
    "import matplotlib.pyplot as plt\n",
    "import time\n",
    "from keras.models import Sequential\n",
    "from keras.layers import Dense\n",
    "import tensorflow as tf\n",
    "import holidays\n",
    "%matplotlib inline\n",
    "%load_ext autoreload\n",
    "%autoreload 2"
   ]
  },
  {
   "cell_type": "code",
   "execution_count": 2,
   "metadata": {},
   "outputs": [],
   "source": [
    "data = pd.read_excel('GEFcom2014Data/GEFCom2014-E.xlsx', skiprows =range(1,17545))"
   ]
  },
  {
   "cell_type": "code",
   "execution_count": 3,
   "metadata": {},
   "outputs": [],
   "source": [
    "data['month'] = np.cos(2*np.pi*data.Date.dt.month / 12)\n",
    "data['dow'] = np.cos(2*np.pi*data.Date.dt.dayofweek / 7)\n",
    "data['hour'] = np.cos(2*np.pi*data.Date.dt.hour/24)\n",
    "us_holiday = holidays.US()\n",
    "data['is_holiday'] = 1 * data.Date.dt.date.apply(lambda x: x in us_holiday)\n",
    "data.drop(['Date', 'Hour'],1, inplace=True)\n",
    "c = list(data.columns)\n",
    "c = c[1:] + c[:1]\n",
    "data = data[c]\n",
    "c = list(data.columns)\n",
    "c = c[1:] + c[:1]\n",
    "data = data[c]\n",
    "data['CDD'] =  np.maximum(data.Temperature-65,0)\n",
    "data['HDD'] = np.maximum(65 - data.Temperature,0)\n",
    "scale = data.load.std()\n",
    "offset = data.load.mean()\n",
    "data.load = (data.load - offset) / scale"
   ]
  },
  {
   "cell_type": "code",
   "execution_count": 4,
   "metadata": {},
   "outputs": [],
   "source": [
    "train = data[:7*len(data)//8]\n",
    "# val = df[3*len(df)//4:7*len(df)//8]\n",
    "test = data[7*len(data)//8:]\n",
    "nt = np.array(train)\n",
    "# nv = np.array(val)\n",
    "ntt = np.array(test)\n",
    "x_train = nt[:,:-1]\n",
    "y_train = nt[:,-1]"
   ]
  },
  {
   "cell_type": "code",
   "execution_count": 5,
   "metadata": {},
   "outputs": [],
   "source": [
    "def row2seq_rnn(data, ys, history=24, future = 0):\n",
    "    xl = []\n",
    "    xff = []\n",
    "    yl = []\n",
    "    yf = []\n",
    "    for i in np.arange(history+1, len(data)-max(future,1)):\n",
    "        tmp1 = data[i-history:i+1]\n",
    "        tmp2 = ys[i-history-1:i].reshape(-1,1)\n",
    "        xl.append(np.append(tmp1, tmp2, axis=1))\n",
    "        xff.append(data[i+1:i+future+1])\n",
    "        yl.append(ys[i])\n",
    "        yf.append(ys[i:i+future])\n",
    "    return np.array(xl), np.array(xff), np.array(yl), np.array(yf)"
   ]
  },
  {
   "cell_type": "code",
   "execution_count": 6,
   "metadata": {},
   "outputs": [],
   "source": [
    "xt, xtf, yt, ytf = row2seq_rnn(x_train, y_train, history=24, future=1)\n",
    "#xv, xvf, yv, yvf = row2seq_rnn(x_val, y_val, history=24, future=24)\n",
    "xtt, xttf, ytt, yttf = row2seq_rnn(np.array(test)[:,:-1], np.array(test)[:,-1], history=24, future=1)\n"
   ]
  },
  {
   "cell_type": "code",
   "execution_count": 7,
   "metadata": {},
   "outputs": [
    {
     "data": {
      "text/plain": [
       "(69001, 1)"
      ]
     },
     "execution_count": 7,
     "metadata": {},
     "output_type": "execute_result"
    }
   ],
   "source": [
    "ytf.shape"
   ]
  },
  {
   "cell_type": "code",
   "execution_count": 48,
   "metadata": {},
   "outputs": [
    {
     "data": {
      "text/plain": [
       "array([0.01, 0.11, 0.21, 0.31, 0.41, 0.51, 0.61, 0.71, 0.81, 0.91],\n",
       "      dtype=float32)"
      ]
     },
     "execution_count": 48,
     "metadata": {},
     "output_type": "execute_result"
    }
   ],
   "source": [
    "t = np.arange(1, 100, 10, dtype=np.float32)/100\n",
    "t"
   ]
  },
  {
   "cell_type": "code",
   "execution_count": 32,
   "metadata": {},
   "outputs": [],
   "source": [
    "def pinball(y_true, y_pred, step =1):\n",
    "    ts = K.arange(1, 100, step, dtype=np.float32)/100\n",
    "    ts = K.reshape(ts,(1,-1))\n",
    "    y_true = K.reshape(y_true,(-1,1)) \n",
    "    pin = K.mean(K.maximum(y_true - y_pred, 0) * ts +\n",
    "                 K.maximum(y_pred - y_true, 0) * (1 - ts))\n",
    "    return pin"
   ]
  },
  {
   "cell_type": "code",
   "execution_count": 33,
   "metadata": {},
   "outputs": [],
   "source": [
    "layer = 2\n",
    "hiddenU = 32\n",
    "val_dictionary = {}\n",
    "model = keras.models.Sequential(name = 'LSTM')\n",
    "model.add(keras.layers.LSTM(hiddenU, input_shape = xt.shape[1:], return_sequences = layer > 1))\n",
    "for i in range(layer-1):\n",
    "    model.add(keras.layers.LSTM(hiddenU, return_sequences = i < layer-2))\n",
    "model.add(Dense(99))\n",
    "adam = keras.optimizers.Adam(lr=0.001, beta_1=0.9, beta_2=0.999, epsilon=1e-08, decay=1e-4)\n",
    "model.compile(loss= lambda y, yp: -(pinball(y, yp, 1)), optimizer = 'adam')"
   ]
  },
  {
   "cell_type": "code",
   "execution_count": 34,
   "metadata": {
    "scrolled": true
   },
   "outputs": [
    {
     "name": "stdout",
     "output_type": "stream",
     "text": [
      "Train on 62100 samples, validate on 6901 samples\n",
      "Epoch 1/100\n",
      "62100/62100 [==============================] - 13s 206us/step - loss: -10.2482 - val_loss: -8.8581\n",
      "Epoch 2/100\n",
      "62100/62100 [==============================] - 11s 171us/step - loss: -12.0463 - val_loss: -10.5240\n",
      "Epoch 3/100\n",
      "62100/62100 [==============================] - 11s 180us/step - loss: -13.6162 - val_loss: -12.0856\n",
      "Epoch 4/100\n",
      "62100/62100 [==============================] - 9s 153us/step - loss: -15.1331 - val_loss: -13.6330\n",
      "Epoch 5/100\n",
      "62100/62100 [==============================] - 9s 148us/step - loss: -16.6415 - val_loss: -15.1819\n",
      "Epoch 6/100\n",
      "62100/62100 [==============================] - 10s 154us/step - loss: -18.1536 - val_loss: -16.7383\n",
      "Epoch 7/100\n",
      "62100/62100 [==============================] - 10s 162us/step - loss: -19.6751 - val_loss: -18.3073\n",
      "Epoch 8/100\n",
      "62100/62100 [==============================] - 12s 200us/step - loss: -21.2118 - val_loss: -19.8906\n",
      "Epoch 9/100\n",
      "62100/62100 [==============================] - 11s 184us/step - loss: -22.7682 - val_loss: -21.4934\n",
      "Epoch 10/100\n",
      "62100/62100 [==============================] - 13s 207us/step - loss: -24.3465 - val_loss: -23.1162\n",
      "Epoch 11/100\n",
      "62100/62100 [==============================] - 11s 169us/step - loss: -25.9428 - val_loss: -24.7476\n",
      "Epoch 12/100\n",
      "62100/62100 [==============================] - 11s 176us/step - loss: -27.5502 - val_loss: -26.3787\n",
      "Epoch 13/100\n",
      "62100/62100 [==============================] - 11s 172us/step - loss: -29.1626 - val_loss: -28.0061\n",
      "Epoch 14/100\n",
      "62100/62100 [==============================] - 10s 163us/step - loss: -30.7755 - val_loss: -29.6280\n",
      "Epoch 15/100\n",
      "62100/62100 [==============================] - 9s 150us/step - loss: -32.3858 - val_loss: -31.2428\n",
      "Epoch 16/100\n",
      "62100/62100 [==============================] - 10s 156us/step - loss: -33.9911 - val_loss: -32.8498\n",
      "Epoch 17/100\n",
      "62100/62100 [==============================] - 10s 154us/step - loss: -35.5907 - val_loss: -34.4486\n",
      "Epoch 18/100\n",
      "62100/62100 [==============================] - 11s 179us/step - loss: -37.1842 - val_loss: -36.0401\n",
      "Epoch 19/100\n",
      "62100/62100 [==============================] - 10s 168us/step - loss: -38.7717 - val_loss: -37.6251\n",
      "Epoch 20/100\n",
      "62100/62100 [==============================] - 12s 190us/step - loss: -40.3535 - val_loss: -39.2044\n",
      "Epoch 21/100\n",
      "62100/62100 [==============================] - 11s 171us/step - loss: -41.9301 - val_loss: -40.7787\n",
      "Epoch 22/100\n",
      "62100/62100 [==============================] - 11s 177us/step - loss: -43.5022 - val_loss: -42.3487\n",
      "Epoch 23/100\n",
      "62100/62100 [==============================] - 10s 155us/step - loss: -45.0702 - val_loss: -43.9150\n",
      "Epoch 24/100\n",
      "62100/62100 [==============================] - 10s 166us/step - loss: -46.6348 - val_loss: -45.4780\n",
      "Epoch 25/100\n",
      "62100/62100 [==============================] - 11s 172us/step - loss: -48.1964 - val_loss: -47.0379\n",
      "Epoch 26/100\n",
      "62100/62100 [==============================] - 10s 164us/step - loss: -49.7553 - val_loss: -48.5956\n",
      "Epoch 27/100\n",
      "62100/62100 [==============================] - 10s 168us/step - loss: -51.3119 - val_loss: -50.1512\n",
      "Epoch 28/100\n",
      "62100/62100 [==============================] - 10s 163us/step - loss: -52.8664 - val_loss: -51.7048\n",
      "Epoch 29/100\n",
      "62100/62100 [==============================] - 10s 161us/step - loss: -54.4191 - val_loss: -53.2566\n",
      "Epoch 30/100\n",
      "62100/62100 [==============================] - 10s 164us/step - loss: -55.9702 - val_loss: -54.8070\n",
      "Epoch 31/100\n",
      "62100/62100 [==============================] - 13s 208us/step - loss: -57.5198 - val_loss: -56.3559\n",
      "Epoch 32/100\n",
      "62100/62100 [==============================] - 11s 177us/step - loss: -59.0682 - val_loss: -57.9035\n",
      "Epoch 33/100\n",
      "62100/62100 [==============================] - 10s 155us/step - loss: -60.6153 - val_loss: -59.4501\n",
      "Epoch 34/100\n",
      "62100/62100 [==============================] - 10s 162us/step - loss: -62.1614 - val_loss: -60.9958\n",
      "Epoch 35/100\n",
      "62100/62100 [==============================] - 10s 168us/step - loss: -63.7066 - val_loss: -62.5404\n",
      "Epoch 36/100\n",
      "62100/62100 [==============================] - 10s 165us/step - loss: -65.2508 - val_loss: -64.0845\n",
      "Epoch 37/100\n",
      "62100/62100 [==============================] - 10s 160us/step - loss: -66.7943 - val_loss: -65.6273\n",
      "Epoch 38/100\n",
      "62100/62100 [==============================] - 10s 156us/step - loss: -68.3371 - val_loss: -67.1701\n",
      "Epoch 39/100\n",
      "62100/62100 [==============================] - 9s 140us/step - loss: -69.8793 - val_loss: -68.7121\n",
      "Epoch 40/100\n",
      "62100/62100 [==============================] - 10s 163us/step - loss: -71.4209 - val_loss: -70.2530\n",
      "Epoch 41/100\n",
      "62100/62100 [==============================] - 10s 163us/step - loss: -72.9619 - val_loss: -71.7940\n",
      "Epoch 42/100\n",
      "62100/62100 [==============================] - 10s 161us/step - loss: -74.5025 - val_loss: -73.3343\n",
      "Epoch 43/100\n",
      "62100/62100 [==============================] - 9s 151us/step - loss: -76.0426 - val_loss: -74.8744\n",
      "Epoch 44/100\n",
      "62100/62100 [==============================] - 10s 157us/step - loss: -77.5823 - val_loss: -76.4136\n",
      "Epoch 45/100\n",
      "62100/62100 [==============================] - 9s 145us/step - loss: -79.1217 - val_loss: -77.9526\n",
      "Epoch 46/100\n",
      "62100/62100 [==============================] - 10s 164us/step - loss: -80.6607 - val_loss: -79.4916\n",
      "Epoch 47/100\n",
      "62100/62100 [==============================] - 10s 166us/step - loss: -82.1994 - val_loss: -81.0302\n",
      "Epoch 48/100\n",
      "62100/62100 [==============================] - 9s 141us/step - loss: -83.7378 - val_loss: -82.5691\n",
      "Epoch 49/100\n",
      "62100/62100 [==============================] - 10s 156us/step - loss: -85.2760 - val_loss: -84.1064\n",
      "Epoch 50/100\n",
      "62100/62100 [==============================] - 10s 164us/step - loss: -86.8140 - val_loss: -85.6444\n",
      "Epoch 51/100\n",
      "62100/62100 [==============================] - 10s 161us/step - loss: -88.3517 - val_loss: -87.1823\n",
      "Epoch 52/100\n",
      "62100/62100 [==============================] - 10s 158us/step - loss: -89.8894 - val_loss: -88.7195\n",
      "Epoch 53/100\n",
      "62100/62100 [==============================] - 9s 151us/step - loss: -91.4268 - val_loss: -90.2573\n",
      "Epoch 54/100\n",
      "62100/62100 [==============================] - 10s 161us/step - loss: -92.9641 - val_loss: -91.7946\n",
      "Epoch 55/100\n",
      "62100/62100 [==============================] - 10s 167us/step - loss: -94.5011 - val_loss: -93.3310\n",
      "Epoch 56/100\n",
      "62100/62100 [==============================] - 9s 138us/step - loss: -96.0380 - val_loss: -94.8683\n",
      "Epoch 57/100\n",
      "62100/62100 [==============================] - 10s 163us/step - loss: -97.5747 - val_loss: -96.4048\n",
      "Epoch 58/100\n",
      "62100/62100 [==============================] - 10s 166us/step - loss: -99.1112 - val_loss: -97.9409\n",
      "Epoch 59/100\n",
      "62100/62100 [==============================] - 11s 182us/step - loss: -100.6476 - val_loss: -99.4774\n",
      "Epoch 60/100\n",
      "62100/62100 [==============================] - 10s 162us/step - loss: -102.1839 - val_loss: -101.0136\n",
      "Epoch 61/100\n",
      "62100/62100 [==============================] - 10s 160us/step - loss: -103.7200 - val_loss: -102.5498\n",
      "Epoch 62/100\n",
      "62100/62100 [==============================] - 10s 157us/step - loss: -105.2560 - val_loss: -104.0854\n",
      "Epoch 63/100\n",
      "62100/62100 [==============================] - 10s 167us/step - loss: -106.7920 - val_loss: -105.6216\n",
      "Epoch 64/100\n",
      "62100/62100 [==============================] - 10s 158us/step - loss: -108.3279 - val_loss: -107.1572\n",
      "Epoch 65/100\n",
      "62100/62100 [==============================] - 10s 157us/step - loss: -109.8636 - val_loss: -108.6935\n",
      "Epoch 66/100\n",
      "62100/62100 [==============================] - 10s 160us/step - loss: -111.3994 - val_loss: -110.2284\n",
      "Epoch 67/100\n",
      "62100/62100 [==============================] - 10s 157us/step - loss: -112.9351 - val_loss: -111.7645\n",
      "Epoch 68/100\n",
      "62100/62100 [==============================] - 10s 158us/step - loss: -114.4707 - val_loss: -113.3004\n",
      "Epoch 69/100\n",
      "62100/62100 [==============================] - 10s 158us/step - loss: -116.0063 - val_loss: -114.8353\n",
      "Epoch 70/100\n",
      "62100/62100 [==============================] - 10s 161us/step - loss: -117.5418 - val_loss: -116.3713\n",
      "Epoch 71/100\n",
      "62100/62100 [==============================] - 10s 157us/step - loss: -119.0774 - val_loss: -117.9071\n",
      "Epoch 72/100\n",
      "62100/62100 [==============================] - 10s 157us/step - loss: -120.6129 - val_loss: -119.4427\n"
     ]
    },
    {
     "name": "stdout",
     "output_type": "stream",
     "text": [
      "Epoch 73/100\n",
      "62100/62100 [==============================] - 10s 157us/step - loss: -122.1484 - val_loss: -120.9772\n",
      "Epoch 74/100\n",
      "62100/62100 [==============================] - 10s 168us/step - loss: -123.6838 - val_loss: -122.5130\n",
      "Epoch 75/100\n",
      "62100/62100 [==============================] - 9s 144us/step - loss: -125.2192 - val_loss: -124.0484\n",
      "Epoch 76/100\n",
      "62100/62100 [==============================] - 9s 139us/step - loss: -126.7546 - val_loss: -125.5839\n",
      "Epoch 77/100\n",
      "62100/62100 [==============================] - 9s 151us/step - loss: -128.2900 - val_loss: -127.1194\n",
      "Epoch 78/100\n",
      "62100/62100 [==============================] - 11s 179us/step - loss: -129.8253 - val_loss: -128.6548\n",
      "Epoch 79/100\n",
      "62100/62100 [==============================] - 12s 194us/step - loss: -131.3606 - val_loss: -130.1899\n",
      "Epoch 80/100\n",
      "62100/62100 [==============================] - 12s 187us/step - loss: -132.8960 - val_loss: -131.7257\n",
      "Epoch 81/100\n",
      "62100/62100 [==============================] - 11s 171us/step - loss: -134.4313 - val_loss: -133.2612\n",
      "Epoch 82/100\n",
      "62100/62100 [==============================] - 10s 169us/step - loss: -135.9666 - val_loss: -134.7959\n",
      "Epoch 83/100\n",
      "62100/62100 [==============================] - 9s 145us/step - loss: -137.5019 - val_loss: -136.3317\n",
      "Epoch 84/100\n",
      "62100/62100 [==============================] - 11s 170us/step - loss: -139.0371 - val_loss: -137.8664\n",
      "Epoch 85/100\n",
      "62100/62100 [==============================] - 11s 172us/step - loss: -140.5723 - val_loss: -139.4020\n",
      "Epoch 86/100\n",
      "62100/62100 [==============================] - 11s 182us/step - loss: -142.1075 - val_loss: -140.9365\n",
      "Epoch 87/100\n",
      "62100/62100 [==============================] - 12s 187us/step - loss: -143.6428 - val_loss: -142.4719\n",
      "Epoch 88/100\n",
      "62100/62100 [==============================] - 11s 177us/step - loss: -145.1780 - val_loss: -144.0077\n",
      "Epoch 89/100\n",
      "62100/62100 [==============================] - 11s 183us/step - loss: -146.7132 - val_loss: -145.5421\n",
      "Epoch 90/100\n",
      "62100/62100 [==============================] - 11s 173us/step - loss: -148.2484 - val_loss: -147.0777\n",
      "Epoch 91/100\n",
      "62100/62100 [==============================] - 10s 157us/step - loss: -149.7836 - val_loss: -148.6123\n",
      "Epoch 92/100\n",
      "62100/62100 [==============================] - 8s 137us/step - loss: -151.3188 - val_loss: -150.1477\n",
      "Epoch 93/100\n",
      "62100/62100 [==============================] - 8s 137us/step - loss: -152.8540 - val_loss: -151.6833\n",
      "Epoch 94/100\n",
      "62100/62100 [==============================] - 8s 137us/step - loss: -154.3893 - val_loss: -153.2182\n",
      "Epoch 95/100\n",
      "62100/62100 [==============================] - 10s 155us/step - loss: -155.9245 - val_loss: -154.7536\n",
      "Epoch 96/100\n",
      "62100/62100 [==============================] - 9s 143us/step - loss: -157.4597 - val_loss: -156.2880\n",
      "Epoch 97/100\n",
      "62100/62100 [==============================] - 9s 139us/step - loss: -158.9950 - val_loss: -157.8238\n",
      "Epoch 98/100\n",
      "62100/62100 [==============================] - 9s 139us/step - loss: -160.5304 - val_loss: -159.3600\n",
      "Epoch 99/100\n",
      "62100/62100 [==============================] - 8s 136us/step - loss: -162.0659 - val_loss: -160.8957\n",
      "Epoch 100/100\n",
      "62100/62100 [==============================] - 9s 140us/step - loss: -163.6016 - val_loss: -162.4312\n"
     ]
    }
   ],
   "source": [
    "hist = model.fit(xt, yt, batch_size=768, epochs=100,validation_split=0.1, verbose=True, callbacks=[keras.callbacks.ModelCheckpoint(\n",
    "'Weights/LSTM3', save_best_only=True, save_weights_only=True)\n",
    "  , keras.callbacks.EarlyStopping(patience=20)])\n",
    "best_val = min(hist.history['val_loss'])"
   ]
  },
  {
   "cell_type": "code",
   "execution_count": 96,
   "metadata": {},
   "outputs": [],
   "source": [
    "model.load_weights('Weights/LSTM2')"
   ]
  },
  {
   "cell_type": "code",
   "execution_count": 140,
   "metadata": {},
   "outputs": [
    {
     "data": {
      "text/plain": [
       "20.751559423732434"
      ]
     },
     "execution_count": 140,
     "metadata": {},
     "output_type": "execute_result"
    }
   ],
   "source": [
    "np.mean(pin_list)"
   ]
  },
  {
   "cell_type": "code",
   "execution_count": 37,
   "metadata": {},
   "outputs": [
    {
     "data": {
      "text/plain": [
       "(9835, 1)"
      ]
     },
     "execution_count": 37,
     "metadata": {},
     "output_type": "execute_result"
    }
   ],
   "source": [
    "yttf.shape"
   ]
  },
  {
   "cell_type": "code",
   "execution_count": 35,
   "metadata": {},
   "outputs": [],
   "source": [
    "predictions = []\n",
    "for i in range(1):\n",
    "    preds = model.predict(xtt, batch_size= 768)\n",
    "    predictions.append(preds)\n",
    "    "
   ]
  },
  {
   "cell_type": "code",
   "execution_count": 38,
   "metadata": {},
   "outputs": [
    {
     "data": {
      "text/plain": [
       "(9835, 1, 99)"
      ]
     },
     "execution_count": 38,
     "metadata": {},
     "output_type": "execute_result"
    }
   ],
   "source": [
    "prediction = np.array(predictions)\n",
    "prediction = prediction.reshape(9835,1,99)\n",
    "prediction.shape"
   ]
  },
  {
   "cell_type": "code",
   "execution_count": 42,
   "metadata": {},
   "outputs": [
    {
     "data": {
      "image/png": "[encoded data removed]",
      "text/plain": [
       "<matplotlib.figure.Figure at 0x1831fc1dd8>"
      ]
     },
     "metadata": {},
     "output_type": "display_data"
    }
   ],
   "source": [
    "\n",
    "# _ = plt.plot(target_used, 'g')\n",
    "__= plt.plot(prediction[:,:,0], 'r')"
   ]
  },
  {
   "cell_type": "code",
   "execution_count": 45,
   "metadata": {},
   "outputs": [
    {
     "data": {
      "text/plain": [
       "[array([  1544.06677816, 166111.01626936,   4638.51981215,   6182.38434578,\n",
       "          7746.01286329, 158706.23671865, 157063.67001451, 156097.44050419,\n",
       "        154042.00690508,  15574.81327587, 150073.42397913,  18724.5804017 ,\n",
       "        147284.14388818,  21897.58823114,  23491.51101686, 142025.48203149,\n",
       "        140162.9246127 ,  28302.06689734, 136620.12761196, 134768.3247005 ,\n",
       "        134169.28526252, 132346.29040994, 130236.40829249, 128880.11472777,\n",
       "        126650.52719786, 124833.35357666, 123570.50088532, 121835.02662369,\n",
       "        119951.22855537, 118081.95973886, 116681.16937002, 115358.15166996,\n",
       "        113385.42848059, 111663.50602031, 109660.67778216, 108316.29858872,\n",
       "        106859.7579203 , 104621.95356144, 103306.22002999, 101401.99243701,\n",
       "         99647.70536053,  97935.68225894,  96327.62153382,  94475.5776325 ,\n",
       "         93284.64259301,  91825.43378827,  89580.17296099,  87863.62174466,\n",
       "         86386.95959925,  84420.9449861 ,  82953.5558388 ,  81102.70505355,\n",
       "         79471.77157207,  78031.72028646,  75949.66634257,  74193.29223736,\n",
       "         72890.2010215 ,  70752.95605772,  69099.08683771,  67529.35579491,\n",
       "         65846.34036245,  64151.78832242,  62455.93168989,  60893.44780512,\n",
       "         59087.70462333,  57564.48962058,  55640.76252865,  54096.91892591,\n",
       "         52257.55644636,  50946.11552847,  48844.93077153,  47331.38671993,\n",
       "         45618.36514024,  44158.32048319,  42341.74122053,  40461.12492466,\n",
       "         38966.207175  ,  37164.84772369,  35581.54681045,  33919.00302218,\n",
       "         32179.00011639,  30435.99379509,  28622.62370739,  27195.64616177,\n",
       "         25346.19073106,  23658.5243851 ,  21985.58402217,  20225.25420692,\n",
       "         18572.71346935,  16901.09628072,  15209.51351557,  13530.50935417,\n",
       "         11793.95610614,  10169.33838094,   8477.62024832,   6759.51122801,\n",
       "          5077.29894224,   3374.71906453,   1697.12105043])]"
      ]
     },
     "execution_count": 45,
     "metadata": {},
     "output_type": "execute_result"
    }
   ],
   "source": [
    "pin_list"
   ]
  },
  {
   "cell_type": "code",
   "execution_count": 52,
   "metadata": {},
   "outputs": [],
   "source": [
    "# def gets_target_value(history =24, future = 24):\n",
    "#     xtest2,xtf,yttf, ytest2 = row2seq_rnn(np.array(test)[:,:-1], np.array(test)[:,-1], history+future)\n",
    "#     targets = []\n",
    "#     for i in range(future):\n",
    "#         targets.append(xtest2[:,history+1+i, -1].copy())\n",
    "#     return np.array(targets).T"
   ]
  },
  {
   "cell_type": "code",
   "execution_count": 20,
   "metadata": {},
   "outputs": [],
   "source": [
    "target_used = yttf \n"
   ]
  },
  {
   "cell_type": "code",
   "execution_count": 21,
   "metadata": {},
   "outputs": [
    {
     "data": {
      "text/plain": [
       "(9835, 1)"
      ]
     },
     "execution_count": 21,
     "metadata": {},
     "output_type": "execute_result"
    }
   ],
   "source": [
    "target_used.shape"
   ]
  },
  {
   "cell_type": "code",
   "execution_count": 44,
   "metadata": {},
   "outputs": [
    {
     "name": "stdout",
     "output_type": "stream",
     "text": [
      "iteration for time 0\n"
     ]
    }
   ],
   "source": [
    "count_list = []\n",
    "pin_list = []\n",
    "bins = [-1,1,10,20,30,40,50,60,70,80,90,99,101]\n",
    "# bins = [-1,10,20,30,40,50,60,70,80,90,100]\n",
    "for hour in range(1):\n",
    "    ts = (np.arange(1, 100, dtype=np.float32)/100).reshape(1,-1)\n",
    "#     ts = (np.arange(1, 100, 10, dtype=np.float32)/100).reshape(1,-1)\n",
    "    pin = np.mean(np.maximum(prediction[:,hour,:] - target_used[:,hour,None], 0) * ts + np.maximum(target_used[:,hour,None] - prediction[:,hour,:], 0) * (1 - ts), axis=(0))\n",
    "    pin_list.append(pin*scale)\n",
    "    counts, bins = np.histogram((prediction[:,hour,:]>target_used[:,hour,None]).sum(1), bins=bins)\n",
    "    count_list.append(counts)\n",
    "    print('iteration for time %d' %hour)\n",
    "    \n",
    "count_array = np.array(count_list)"
   ]
  },
  {
   "cell_type": "code",
   "execution_count": 46,
   "metadata": {},
   "outputs": [],
   "source": [
    "def qcs(expected, observed):\n",
    "    return ((observed-expected)**2/expected/len(expected)).sum(0)"
   ]
  },
  {
   "cell_type": "code",
   "execution_count": 47,
   "metadata": {},
   "outputs": [
    {
     "name": "stdout",
     "output_type": "stream",
     "text": [
      "8286.89814814815\n"
     ]
    }
   ],
   "source": [
    "n_examples = count_array.sum(1)[0]\n",
    "# half_of_the_bins = [0.1,0.1, 0.1,0.1,0.1,0.1,0.1,0.1,0.1,0.1]\n",
    "half_of_the_bins = [0.01,0.09, 0.1,0.1,0.1,0.1,0.1,0.1,0.1,0.1,0.09,0.01]\n",
    "prob_bins = np.array(half_of_the_bins)\n",
    "for i in range(1):\n",
    "    print(qcs(prob_bins*n_examples, count_array[i]))"
   ]
  },
  {
   "cell_type": "code",
   "execution_count": 48,
   "metadata": {},
   "outputs": [
    {
     "data": {
      "text/plain": [
       "(-0.5125, 9.4875)"
      ]
     },
     "execution_count": 48,
     "metadata": {},
     "output_type": "execute_result"
    },
    {
     "data": {
      "image/png": "[encoded data removed]",
      "text/plain": [
       "<matplotlib.figure.Figure at 0x183178a2b0>"
      ]
     },
     "metadata": {},
     "output_type": "display_data"
    }
   ],
   "source": [
    "plt.figure(figsize=(20,11))\n",
    "t = 0\n",
    "plt.bar(np.arange(12), count_array.sum(0)/count_array.sum(), width=0.975, align='center', color = '#003366' )\n",
    "# plt.xticks(range(10), [f'{i}% - {i+10}%' for i in range(0,110,10)])\n",
    "plt.xlabel('Quantile')\n",
    "plt.ylabel('Normalized Frequency')\n",
    "plt.plot((-0.6, 0.6), (0.01, 0.01), color='r', lw=3)\n",
    "plt.plot((11-0.6, 11+0.6), (0.01, 0.01), color='r', lw=3)\n",
    "plt.plot((1-0.6, 1+0.6), (0.09, 0.09), color='r', lw=3)\n",
    "plt.plot((10-0.6, 10+0.6), (0.09, 0.09), color='r', lw=3)\n",
    "# plt.ylim(0,.045)\n",
    "# for i in range(0,10):\n",
    "#     plt.plot((i-0.6, i+0.6), (0.1, 0.1), color='#FFCC00', lw=3)\n",
    "# plt.plot((-100000, 100000), (0.1, 0.1), color='#FFCC00', lw=5)\n",
    "plt.xlim(-0.5 - 0.025/2,9.5- 0.025/2)"
   ]
  },
  {
   "cell_type": "code",
   "execution_count": 55,
   "metadata": {},
   "outputs": [
    {
     "data": {
      "image/png": "[encoded data removed]",
      "text/plain": [
       "<matplotlib.figure.Figure at 0x182d338a90>"
      ]
     },
     "metadata": {},
     "output_type": "display_data"
    }
   ],
   "source": [
    "_=plt.plot(target_used, prediction[:,:,0])"
   ]
  },
  {
   "cell_type": "code",
   "execution_count": 57,
   "metadata": {},
   "outputs": [
    {
     "data": {
      "text/plain": [
       "(7840, 24)"
      ]
     },
     "execution_count": 57,
     "metadata": {},
     "output_type": "execute_result"
    }
   ],
   "source": [
    "prediction[:,:,0].shape"
   ]
  },
  {
   "cell_type": "code",
   "execution_count": null,
   "metadata": {},
   "outputs": [],
   "source": []
  }
 ],
 "metadata": {
  "kernelspec": {
   "display_name": "Python 3",
   "language": "python",
   "name": "python3"
  },
  "language_info": {
   "codemirror_mode": {
    "name": "ipython",
    "version": 3
   },
   "file_extension": ".py",
   "mimetype": "text/x-python",
   "name": "python",
   "nbconvert_exporter": "python",
   "pygments_lexer": "ipython3",
   "version": "3.6.3"
  }
 },
 "nbformat": 4,
 "nbformat_minor": 2
}
