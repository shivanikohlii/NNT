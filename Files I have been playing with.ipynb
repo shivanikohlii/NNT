{
 "cells": [
  {
   "cell_type": "code",
   "execution_count": 1,
   "metadata": {},
   "outputs": [
    {
     "name": "stderr",
     "output_type": "stream",
     "text": [
      "/Users/shivanikohli/Documents/anaconda3/lib/python3.6/site-packages/h5py/__init__.py:34: FutureWarning: Conversion of the second argument of issubdtype from `float` to `np.floating` is deprecated. In future, it will be treated as `np.float64 == np.dtype(float).type`.\n",
      "  from ._conv import register_converters as _register_converters\n",
      "Using TensorFlow backend.\n"
     ]
    }
   ],
   "source": [
    "import numpy as np\n",
    "import keras\n",
    "import keras.backend as K\n",
    "import pandas as pd\n",
    "import matplotlib.pyplot as plt\n",
    "import time\n",
    "from keras.models import Sequential\n",
    "from keras.layers import Dense\n",
    "import tensorflow as tf\n",
    "import holidays\n",
    "%matplotlib inline\n",
    "%load_ext autoreload\n",
    "%autoreload 2"
   ]
  },
  {
   "cell_type": "code",
   "execution_count": 2,
   "metadata": {},
   "outputs": [],
   "source": [
    "data = pd.read_excel('GEFcom2014Data/GEFCom2014-E.xlsx', skiprows =range(1,17545))"
   ]
  },
  {
   "cell_type": "code",
   "execution_count": 3,
   "metadata": {},
   "outputs": [],
   "source": [
    "data['month'] = np.cos(2*np.pi*data.Date.dt.month / 12)\n",
    "data['dow'] = np.cos(2*np.pi*data.Date.dt.dayofweek / 7)\n",
    "data['hour'] = np.cos(2*np.pi*data.Date.dt.hour/24)\n",
    "us_holiday = holidays.US()\n",
    "data['is_holiday'] = 1 * data.Date.dt.date.apply(lambda x: x in us_holiday)\n",
    "data.drop(['Date', 'Hour'],1, inplace=True)\n",
    "c = list(data.columns)\n",
    "c = c[1:] + c[:1]\n",
    "data = data[c]\n",
    "c = list(data.columns)\n",
    "c = c[1:] + c[:1]\n",
    "data = data[c]\n",
    "data['CDD'] =  np.maximum(data.Temperature-65,0)\n",
    "data['HDD'] = np.maximum(65 - data.Temperature,0)\n",
    "scale = data.load.std()\n",
    "offset = data.load.mean()\n",
    "data.load = (data.load - offset) / scale"
   ]
  },
  {
   "cell_type": "code",
   "execution_count": 4,
   "metadata": {},
   "outputs": [],
   "source": [
    "dataPredictors = data.drop('load', axis = 1)"
   ]
  },
  {
   "cell_type": "code",
   "execution_count": 5,
   "metadata": {},
   "outputs": [],
   "source": [
    "dataTarget = data['load']"
   ]
  },
  {
   "cell_type": "code",
   "execution_count": 6,
   "metadata": {},
   "outputs": [
    {
     "data": {
      "text/html": [
       "<div>\n",
       "<style>\n",
       "    .dataframe thead tr:only-child th {\n",
       "        text-align: right;\n",
       "    }\n",
       "\n",
       "    .dataframe thead th {\n",
       "        text-align: left;\n",
       "    }\n",
       "\n",
       "    .dataframe tbody tr th {\n",
       "        vertical-align: top;\n",
       "    }\n",
       "</style>\n",
       "<table border=\"1\" class=\"dataframe\">\n",
       "  <thead>\n",
       "    <tr style=\"text-align: right;\">\n",
       "      <th></th>\n",
       "      <th>month</th>\n",
       "      <th>dow</th>\n",
       "      <th>hour</th>\n",
       "      <th>is_holiday</th>\n",
       "      <th>load</th>\n",
       "      <th>Temperature</th>\n",
       "      <th>CDD</th>\n",
       "      <th>HDD</th>\n",
       "    </tr>\n",
       "  </thead>\n",
       "  <tbody>\n",
       "    <tr>\n",
       "      <th>0</th>\n",
       "      <td>0.866025</td>\n",
       "      <td>0.62349</td>\n",
       "      <td>1.0</td>\n",
       "      <td>1</td>\n",
       "      <td>-0.513969</td>\n",
       "      <td>22.666667</td>\n",
       "      <td>0.0</td>\n",
       "      <td>42.333333</td>\n",
       "    </tr>\n",
       "    <tr>\n",
       "      <th>1</th>\n",
       "      <td>0.866025</td>\n",
       "      <td>0.62349</td>\n",
       "      <td>1.0</td>\n",
       "      <td>1</td>\n",
       "      <td>-0.784751</td>\n",
       "      <td>20.666667</td>\n",
       "      <td>0.0</td>\n",
       "      <td>44.333333</td>\n",
       "    </tr>\n",
       "    <tr>\n",
       "      <th>2</th>\n",
       "      <td>0.866025</td>\n",
       "      <td>0.62349</td>\n",
       "      <td>1.0</td>\n",
       "      <td>1</td>\n",
       "      <td>-0.948599</td>\n",
       "      <td>21.333333</td>\n",
       "      <td>0.0</td>\n",
       "      <td>43.666667</td>\n",
       "    </tr>\n",
       "    <tr>\n",
       "      <th>3</th>\n",
       "      <td>0.866025</td>\n",
       "      <td>0.62349</td>\n",
       "      <td>1.0</td>\n",
       "      <td>1</td>\n",
       "      <td>-1.040010</td>\n",
       "      <td>19.000000</td>\n",
       "      <td>0.0</td>\n",
       "      <td>46.000000</td>\n",
       "    </tr>\n",
       "    <tr>\n",
       "      <th>4</th>\n",
       "      <td>0.866025</td>\n",
       "      <td>0.62349</td>\n",
       "      <td>1.0</td>\n",
       "      <td>1</td>\n",
       "      <td>-1.033111</td>\n",
       "      <td>19.333333</td>\n",
       "      <td>0.0</td>\n",
       "      <td>45.666667</td>\n",
       "    </tr>\n",
       "  </tbody>\n",
       "</table>\n",
       "</div>"
      ],
      "text/plain": [
       "      month      dow  hour  is_holiday      load  Temperature  CDD        HDD\n",
       "0  0.866025  0.62349   1.0           1 -0.513969    22.666667  0.0  42.333333\n",
       "1  0.866025  0.62349   1.0           1 -0.784751    20.666667  0.0  44.333333\n",
       "2  0.866025  0.62349   1.0           1 -0.948599    21.333333  0.0  43.666667\n",
       "3  0.866025  0.62349   1.0           1 -1.040010    19.000000  0.0  46.000000\n",
       "4  0.866025  0.62349   1.0           1 -1.033111    19.333333  0.0  45.666667"
      ]
     },
     "execution_count": 6,
     "metadata": {},
     "output_type": "execute_result"
    }
   ],
   "source": [
    "data.head()"
   ]
  },
  {
   "cell_type": "code",
   "execution_count": 7,
   "metadata": {},
   "outputs": [
    {
     "name": "stdout",
     "output_type": "stream",
     "text": [
      "(63110, 7)\n",
      "(63110,)\n",
      "(15778, 7)\n",
      "(15778,)\n"
     ]
    }
   ],
   "source": [
    "from sklearn.model_selection import train_test_split\n",
    "x_train, x_test, y_train, y_test = train_test_split(dataPredictors,dataTarget, test_size=0.2, shuffle =True)\n",
    "x_train = np.array(x_train)\n",
    "y_train = np.array(y_train)\n",
    "x_test = np.array(x_test)\n",
    "y_test = np.array(y_test)\n",
    "print(x_train.shape)\n",
    "print(y_train.shape)\n",
    "print(x_test.shape)\n",
    "print(y_test.shape)"
   ]
  },
  {
   "cell_type": "code",
   "execution_count": 8,
   "metadata": {},
   "outputs": [
    {
     "data": {
      "text/plain": [
       "[<matplotlib.lines.Line2D at 0x1818db71d0>]"
      ]
     },
     "execution_count": 8,
     "metadata": {},
     "output_type": "execute_result"
    },
    {
     "data": {
      "image/png": "[encoded data removed]",
      "text/plain": [
       "<matplotlib.figure.Figure at 0x1818db7240>"
      ]
     },
     "metadata": {},
     "output_type": "display_data"
    }
   ],
   "source": [
    "plt.plot(y_train[:1000])\n",
    "plt.plot(y_test[:1000])"
   ]
  },
  {
   "cell_type": "code",
   "execution_count": 25,
   "metadata": {},
   "outputs": [
    {
     "name": "stdout",
     "output_type": "stream",
     "text": [
      "(69027, 7)\n",
      "(69027,)\n",
      "(9861, 7)\n",
      "(9861,)\n"
     ]
    }
   ],
   "source": [
    "# train = data[:7*len(data)//8]\n",
    "# test = data[7*len(data)//8:]\n",
    "# nt = np.array(train)\n",
    "# ntt = np.array(test)\n",
    "# x_train = nt[:,:-1]\n",
    "# y_train = nt[:,-1]\n",
    "# x_test = np.array(test)[:,:-1]\n",
    "# y_test = np.array(test)[:,-1]\n",
    "# print(x_train.shape)\n",
    "# print(y_train.shape)\n",
    "# print(x_test.shape)\n",
    "# print(y_test.shape)"
   ]
  },
  {
   "cell_type": "code",
   "execution_count": 9,
   "metadata": {},
   "outputs": [],
   "source": [
    "def row2seq_rnn(data, yValues, history=24, future = 0):\n",
    "    x = []\n",
    "    xf = []\n",
    "    y = []\n",
    "    yf = []\n",
    "    for i in np.arange(history+1, len(data)-max(future,1)):\n",
    "        a = data[i-history:i+1]\n",
    "        b= yValues[i-history-1:i].reshape(-1,1)\n",
    "        x.append(np.append(a, b, axis=1))\n",
    "        xf.append(data[i+1:i+future+1])\n",
    "        y.append(yValues[i])\n",
    "        yf.append(yValues[i:i+future])\n",
    "    return np.array(x), np.array(xf), np.array(y), np.array(yf)"
   ]
  },
  {
   "cell_type": "code",
   "execution_count": 10,
   "metadata": {},
   "outputs": [],
   "source": [
    "xt, xtf, yt, ytf = row2seq_rnn(x_train, y_train, history=24, future=1)\n",
    "xtt, xttf, ytt, yttf = row2seq_rnn(x_test, y_test, history=24, future=1)\n"
   ]
  },
  {
   "cell_type": "code",
   "execution_count": 11,
   "metadata": {},
   "outputs": [],
   "source": [
    "#types, and check shouldn't round\n",
    "def pinball(y_true, y_pred, step =10):\n",
    "    tau = K.arange(step, 100, step, dtype=np.float32)/100\n",
    "#     tau = [.2,.7]\n",
    "    tau = K.reshape(tau,(1,-1))\n",
    "    y_true = K.reshape(y_true,(-1,1))\n",
    "    a = K.maximum(y_true - y_pred, 0) * tau\n",
    "    b = K.maximum(y_pred - y_true, 0) * (1 - tau)\n",
    "    pin = K.mean(a+b)\n",
    "    return pin"
   ]
  },
  {
   "cell_type": "code",
   "execution_count": 12,
   "metadata": {},
   "outputs": [],
   "source": [
    "layer = 3\n",
    "hiddenU = 32\n",
    "val_dictionary = {}\n",
    "model = keras.models.Sequential(name = 'LSTM')\n",
    "model.add(keras.layers.LSTM(hiddenU, input_shape = xt.shape[1:], return_sequences = layer > 1))\n",
    "\n",
    "for i in range(layer-1):\n",
    "    model.add(keras.layers.LSTM(hiddenU, return_sequences = i < layer-2))\n",
    "model.add(Dense(9))\n",
    "\n",
    "adam = keras.optimizers.Adam(lr=0.001, beta_1=0.9, beta_2=0.999, epsilon=1e-08, decay=1e-4)\n",
    "model.compile(loss= lambda y, yp: (pinball(y, yp, 10)), optimizer = 'adam')"
   ]
  },
  {
   "cell_type": "code",
   "execution_count": 48,
   "metadata": {
    "scrolled": true
   },
   "outputs": [],
   "source": [
    "# hist = model.fit(xt, yt, batch_size=768, epochs=100,validation_split=0.1, verbose=1, callbacks=[keras.callbacks.ModelCheckpoint(\n",
    "# 'Weights/LSTM3LayerPredict12', save_best_only=True, save_weights_only=True)\n",
    "#   , keras.callbacks.EarlyStopping(patience=20)])\n",
    "# best_val = min(hist.history['val_loss'])\n"
   ]
  },
  {
   "cell_type": "code",
   "execution_count": 13,
   "metadata": {},
   "outputs": [],
   "source": [
    "model.load_weights('Weights/LSTM3Layer')"
   ]
  },
  {
   "cell_type": "code",
   "execution_count": 14,
   "metadata": {},
   "outputs": [],
   "source": [
    "predictions = []\n",
    "for i in range(1):\n",
    "    preds = model.predict(xtt, batch_size= 768)\n",
    "    predictions.append(preds)"
   ]
  },
  {
   "cell_type": "code",
   "execution_count": 16,
   "metadata": {},
   "outputs": [],
   "source": [
    "prediction = np.array(predictions)\n",
    "prediction = prediction.reshape(15752,1,9)\n",
    "# prediction.shape"
   ]
  },
  {
   "cell_type": "code",
   "execution_count": 15,
   "metadata": {},
   "outputs": [
    {
     "data": {
      "text/plain": [
       "(15752, 1)"
      ]
     },
     "execution_count": 15,
     "metadata": {},
     "output_type": "execute_result"
    }
   ],
   "source": [
    "target_used = yttf \n",
    "target_used.shape"
   ]
  },
  {
   "cell_type": "code",
   "execution_count": 17,
   "metadata": {},
   "outputs": [
    {
     "name": "stdout",
     "output_type": "stream",
     "text": [
      "[array([1598, 1602, 1447, 1632, 1541, 1534, 1549, 1625, 1656, 1568])]\n",
      "iteration for time 0\n"
     ]
    }
   ],
   "source": [
    "count_list = []\n",
    "pin_list = []\n",
    "# bins = [-1,1,10,20,30,40,50,60,70,80,90,99,101]\n",
    "bins = [-1,1,2,3,4,5,6,7,8,9,10]\n",
    "for hour in range(1):\n",
    "#     ts = (np.arange(1, 100,10, dtype=np.float32)/100).reshape(1,-1)\n",
    "#     ts = (np.arange(1, 100, 1, dtype=np.float32)/100).reshape(1,-1)\n",
    "    ts = [0.01, 0.11, 0.21, 0.31, 0.41, 0.51, 0.61, 0.71, 0.81, 0.91]\n",
    "    for ts in ts:\n",
    "        b = np.maximum(target_used[:,hour,None] - prediction[:,hour,:], 0) * (1 - ts)\n",
    "        a = np.maximum(prediction[:,hour,:] - target_used[:,hour,None], 0) * ts\n",
    "        pin = np.mean(a+b)\n",
    "        pin_list.append(pin*scale)\n",
    "    counts, bins = np.histogram((prediction[:,hour,:]>target_used[:,hour,None]).sum(1), bins=bins)\n",
    "    count_list.append(counts)\n",
    "    print(count_list)\n",
    "    print('iteration for time %d' %hour)\n",
    "    \n",
    "count_array = np.array(count_list)"
   ]
  },
  {
   "cell_type": "code",
   "execution_count": 24,
   "metadata": {},
   "outputs": [
    {
     "data": {
      "text/plain": [
       "247.05046403261213"
      ]
     },
     "execution_count": 24,
     "metadata": {},
     "output_type": "execute_result"
    }
   ],
   "source": [
    "np.mean(pin_list)"
   ]
  },
  {
   "cell_type": "code",
   "execution_count": 27,
   "metadata": {},
   "outputs": [],
   "source": [
    "def qcs(expected, observed):\n",
    "    return ((observed-expected)**2/expected/len(expected)).sum(0)"
   ]
  },
  {
   "cell_type": "code",
   "execution_count": 28,
   "metadata": {},
   "outputs": [
    {
     "name": "stdout",
     "output_type": "stream",
     "text": [
      "2.1275774504824785\n"
     ]
    }
   ],
   "source": [
    "n_examples = count_array.sum(1)[0]\n",
    "prob_bins = np.array([0.1,0.1, 0.1,0.1,0.1,0.1,0.1,0.1,0.1,0.1])\n",
    "for i in range(1):\n",
    "    print(qcs(prob_bins*n_examples, count_array[i]))"
   ]
  },
  {
   "cell_type": "code",
   "execution_count": 30,
   "metadata": {},
   "outputs": [
    {
     "data": {
      "text/plain": [
       "([<matplotlib.axis.XTick at 0x1819abfb00>,\n",
       "  <matplotlib.axis.XTick at 0x1819a0edd8>,\n",
       "  <matplotlib.axis.XTick at 0x1819c4d4a8>,\n",
       "  <matplotlib.axis.XTick at 0x18199c4400>,\n",
       "  <matplotlib.axis.XTick at 0x18199c4a58>,\n",
       "  <matplotlib.axis.XTick at 0x18199ca0f0>,\n",
       "  <matplotlib.axis.XTick at 0x18199ca748>,\n",
       "  <matplotlib.axis.XTick at 0x18199cada0>,\n",
       "  <matplotlib.axis.XTick at 0x18199d1438>,\n",
       "  <matplotlib.axis.XTick at 0x18199d1a90>,\n",
       "  <matplotlib.axis.XTick at 0x18199d6128>,\n",
       "  <matplotlib.axis.XTick at 0x18199d6780>],\n",
       " <a list of 12 Text xticklabel objects>)"
      ]
     },
     "execution_count": 30,
     "metadata": {},
     "output_type": "execute_result"
    },
    {
     "data": {
      "image/png": "[encoded data removed]",
      "text/plain": [
       "<matplotlib.figure.Figure at 0x1819bbba90>"
      ]
     },
     "metadata": {},
     "output_type": "display_data"
    }
   ],
   "source": [
    "plt.figure(figsize=(20,11))\n",
    "t = 0\n",
    "plt.bar(np.arange(10), count_array.sum(0)/count_array.sum(), width=0.975, align='center', color = '#003366' )\n",
    "# plt.xticks(range(10), [f'{i}% - {i+10}%' for i in range(0,110,10)])\n",
    "plt.xlabel('Quantile')\n",
    "plt.ylabel('Normalized Frequency')\n",
    "# plt.plot((-0.6, 0.6), (0.01, 0.01), color='r', lw=3)\n",
    "# plt.plot((11-0.6, 11+0.6), (0.01, 0.01), color='r', lw=3)\n",
    "# plt.plot((1-0.6, 1+0.6), (0.09, 0.09), color='r', lw=3)\n",
    "# plt.plot((10-0.6, 10+0.6), (0.09, 0.09), color='r', lw=3)\n",
    "# plt.ylim(0,.045)\n",
    "for i in range(0,10):\n",
    "    plt.plot((i-0.6, i+0.6), (0.1, 0.1), color='#FFCC00', lw=3)\n",
    "plt.plot((-100000, 100000), (0.1, 0.1), color='#FFCC00', lw=5)\n",
    "plt.xlim(0 - 0.025/2,9.5- 0.025/2)\n",
    "plt.xticks([-1,0,1,2,3,4,5,6,7,8,9,10])"
   ]
  },
  {
   "cell_type": "code",
   "execution_count": null,
   "metadata": {},
   "outputs": [],
   "source": [
    "for layer in model.layers:\n",
    "    weights = layer.get_weights()\n",
    "print(weights)"
   ]
  },
  {
   "cell_type": "code",
   "execution_count": 31,
   "metadata": {},
   "outputs": [
    {
     "name": "stdout",
     "output_type": "stream",
     "text": [
      "_________________________________________________________________\n",
      "Layer (type)                 Output Shape              Param #   \n",
      "=================================================================\n",
      "lstm_1 (LSTM)                (None, 25, 32)            5248      \n",
      "_________________________________________________________________\n",
      "lstm_2 (LSTM)                (None, 25, 32)            8320      \n",
      "_________________________________________________________________\n",
      "lstm_3 (LSTM)                (None, 32)                8320      \n",
      "_________________________________________________________________\n",
      "dense_1 (Dense)              (None, 9)                 297       \n",
      "=================================================================\n",
      "Total params: 22,185\n",
      "Trainable params: 22,185\n",
      "Non-trainable params: 0\n",
      "_________________________________________________________________\n"
     ]
    }
   ],
   "source": [
    "model.summary()\n"
   ]
  },
  {
   "cell_type": "code",
   "execution_count": null,
   "metadata": {},
   "outputs": [],
   "source": []
  }
 ],
 "metadata": {
  "kernelspec": {
   "display_name": "Python 3",
   "language": "python",
   "name": "python3"
  },
  "language_info": {
   "codemirror_mode": {
    "name": "ipython",
    "version": 3
   },
   "file_extension": ".py",
   "mimetype": "text/x-python",
   "name": "python",
   "nbconvert_exporter": "python",
   "pygments_lexer": "ipython3",
   "version": "3.6.3"
  }
 },
 "nbformat": 4,
 "nbformat_minor": 2
}
