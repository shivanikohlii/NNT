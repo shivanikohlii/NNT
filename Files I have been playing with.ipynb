{
 "cells": [
  {
   "cell_type": "code",
   "execution_count": 11,
   "metadata": {},
   "outputs": [
    {
     "name": "stdout",
     "output_type": "stream",
     "text": [
      "The autoreload extension is already loaded. To reload it, use:\n",
      "  %reload_ext autoreload\n"
     ]
    }
   ],
   "source": [
    "import numpy as np\n",
    "import keras\n",
    "import keras.backend as K\n",
    "import pandas as pd\n",
    "import matplotlib.pyplot as plt\n",
    "import time\n",
    "from keras.models import Sequential\n",
    "from keras.layers import Dense\n",
    "import tensorflow as tf\n",
    "import holidays\n",
    "%matplotlib inline\n",
    "%load_ext autoreload\n",
    "%autoreload 2"
   ]
  },
  {
   "cell_type": "code",
   "execution_count": 12,
   "metadata": {},
   "outputs": [],
   "source": [
    "data = pd.read_excel('GEFcom2014Data/GEFCom2014-E.xlsx', skiprows =range(1,17545))"
   ]
  },
  {
   "cell_type": "code",
   "execution_count": 13,
   "metadata": {},
   "outputs": [],
   "source": [
    "data['month'] = np.cos(2*np.pi*data.Date.dt.month / 12)\n",
    "data['dow'] = np.cos(2*np.pi*data.Date.dt.dayofweek / 7)\n",
    "data['hour'] = np.cos(2*np.pi*data.Date.dt.hour/24)\n",
    "us_holiday = holidays.US()\n",
    "data['is_holiday'] = 1 * data.Date.dt.date.apply(lambda x: x in us_holiday)\n",
    "data.drop(['Date', 'Hour'],1, inplace=True)\n",
    "c = list(data.columns)\n",
    "c = c[1:] + c[:1]\n",
    "data = data[c]\n",
    "c = list(data.columns)\n",
    "c = c[1:] + c[:1]\n",
    "data = data[c]\n",
    "data['CDD'] =  np.maximum(data.Temperature-65,0)\n",
    "data['HDD'] = np.maximum(65 - data.Temperature,0)\n",
    "scale = data.load.std()\n",
    "offset = data.load.mean()\n",
    "data.load = (data.load - offset) / scale"
   ]
  },
  {
   "cell_type": "code",
   "execution_count": 14,
   "metadata": {},
   "outputs": [],
   "source": [
    "dataPredictors = data.drop('load', axis = 1)"
   ]
  },
  {
   "cell_type": "code",
   "execution_count": 15,
   "metadata": {},
   "outputs": [],
   "source": [
    "dataTarget = data['load']"
   ]
  },
  {
   "cell_type": "code",
   "execution_count": 16,
   "metadata": {},
   "outputs": [
    {
     "data": {
      "text/html": [
       "<div>\n",
       "<style>\n",
       "    .dataframe thead tr:only-child th {\n",
       "        text-align: right;\n",
       "    }\n",
       "\n",
       "    .dataframe thead th {\n",
       "        text-align: left;\n",
       "    }\n",
       "\n",
       "    .dataframe tbody tr th {\n",
       "        vertical-align: top;\n",
       "    }\n",
       "</style>\n",
       "<table border=\"1\" class=\"dataframe\">\n",
       "  <thead>\n",
       "    <tr style=\"text-align: right;\">\n",
       "      <th></th>\n",
       "      <th>month</th>\n",
       "      <th>dow</th>\n",
       "      <th>hour</th>\n",
       "      <th>is_holiday</th>\n",
       "      <th>load</th>\n",
       "      <th>Temperature</th>\n",
       "      <th>CDD</th>\n",
       "      <th>HDD</th>\n",
       "    </tr>\n",
       "  </thead>\n",
       "  <tbody>\n",
       "    <tr>\n",
       "      <th>0</th>\n",
       "      <td>0.866025</td>\n",
       "      <td>0.62349</td>\n",
       "      <td>1.0</td>\n",
       "      <td>1</td>\n",
       "      <td>-0.513969</td>\n",
       "      <td>22.666667</td>\n",
       "      <td>0.0</td>\n",
       "      <td>42.333333</td>\n",
       "    </tr>\n",
       "    <tr>\n",
       "      <th>1</th>\n",
       "      <td>0.866025</td>\n",
       "      <td>0.62349</td>\n",
       "      <td>1.0</td>\n",
       "      <td>1</td>\n",
       "      <td>-0.784751</td>\n",
       "      <td>20.666667</td>\n",
       "      <td>0.0</td>\n",
       "      <td>44.333333</td>\n",
       "    </tr>\n",
       "    <tr>\n",
       "      <th>2</th>\n",
       "      <td>0.866025</td>\n",
       "      <td>0.62349</td>\n",
       "      <td>1.0</td>\n",
       "      <td>1</td>\n",
       "      <td>-0.948599</td>\n",
       "      <td>21.333333</td>\n",
       "      <td>0.0</td>\n",
       "      <td>43.666667</td>\n",
       "    </tr>\n",
       "    <tr>\n",
       "      <th>3</th>\n",
       "      <td>0.866025</td>\n",
       "      <td>0.62349</td>\n",
       "      <td>1.0</td>\n",
       "      <td>1</td>\n",
       "      <td>-1.040010</td>\n",
       "      <td>19.000000</td>\n",
       "      <td>0.0</td>\n",
       "      <td>46.000000</td>\n",
       "    </tr>\n",
       "    <tr>\n",
       "      <th>4</th>\n",
       "      <td>0.866025</td>\n",
       "      <td>0.62349</td>\n",
       "      <td>1.0</td>\n",
       "      <td>1</td>\n",
       "      <td>-1.033111</td>\n",
       "      <td>19.333333</td>\n",
       "      <td>0.0</td>\n",
       "      <td>45.666667</td>\n",
       "    </tr>\n",
       "  </tbody>\n",
       "</table>\n",
       "</div>"
      ],
      "text/plain": [
       "      month      dow  hour  is_holiday      load  Temperature  CDD        HDD\n",
       "0  0.866025  0.62349   1.0           1 -0.513969    22.666667  0.0  42.333333\n",
       "1  0.866025  0.62349   1.0           1 -0.784751    20.666667  0.0  44.333333\n",
       "2  0.866025  0.62349   1.0           1 -0.948599    21.333333  0.0  43.666667\n",
       "3  0.866025  0.62349   1.0           1 -1.040010    19.000000  0.0  46.000000\n",
       "4  0.866025  0.62349   1.0           1 -1.033111    19.333333  0.0  45.666667"
      ]
     },
     "execution_count": 16,
     "metadata": {},
     "output_type": "execute_result"
    }
   ],
   "source": [
    "data.head()"
   ]
  },
  {
   "cell_type": "code",
   "execution_count": 17,
   "metadata": {},
   "outputs": [
    {
     "name": "stdout",
     "output_type": "stream",
     "text": [
      "(63110, 7)\n",
      "(63110,)\n",
      "(15778, 7)\n",
      "(15778,)\n"
     ]
    }
   ],
   "source": [
    "from sklearn.model_selection import train_test_split\n",
    "x_train, x_test, y_train, y_test = train_test_split(dataPredictors,dataTarget, test_size=0.2)\n",
    "x_train = np.array(x_train)\n",
    "y_train = np.array(y_train)\n",
    "x_test = np.array(x_test)\n",
    "y_test = np.array(y_test)\n",
    "print(x_train.shape)\n",
    "print(y_train.shape)\n",
    "print(x_test.shape)\n",
    "print(y_test.shape)"
   ]
  },
  {
   "cell_type": "code",
   "execution_count": 18,
   "metadata": {},
   "outputs": [],
   "source": [
    "# train = data[:7*len(data)//8]\n",
    "# test = data[7*len(data)//8:]\n",
    "# nt = np.array(train)\n",
    "# ntt = np.array(test)\n",
    "# x_train = nt[:,:-1]\n",
    "# y_train = nt[:,-1]\n",
    "# x_test = np.array(test)[:,:-1]\n",
    "# y_test = np.array(test)[:,-1]\n",
    "# print(x_train.shape)\n",
    "# print(y_train.shape)\n",
    "# print(x_test.shape)\n",
    "# print(y_test.shape)"
   ]
  },
  {
   "cell_type": "code",
   "execution_count": 19,
   "metadata": {},
   "outputs": [],
   "source": [
    "def row2seq_rnn(data, yValues, history=24, future = 0):\n",
    "    x = []\n",
    "    xf = []\n",
    "    y = []\n",
    "    yf = []\n",
    "    for i in np.arange(history+1, len(data)-max(future,1)):\n",
    "        a = data[i-history:i+1]\n",
    "        b= yValues[i-history-1:i].reshape(-1,1)\n",
    "        x.append(np.append(a, b, axis=1))\n",
    "        xf.append(data[i+1:i+future+1])\n",
    "        y.append(yValues[i])\n",
    "        yf.append(yValues[i:i+future])\n",
    "    return np.array(x), np.array(xf), np.array(y), np.array(yf)"
   ]
  },
  {
   "cell_type": "code",
   "execution_count": 20,
   "metadata": {},
   "outputs": [],
   "source": [
    "xt, xtf, yt, ytf = row2seq_rnn(x_train, y_train, history=24, future=1)\n",
    "xtt, xttf, ytt, yttf = row2seq_rnn(x_test, y_test, history=24, future=1)\n"
   ]
  },
  {
   "cell_type": "code",
   "execution_count": 21,
   "metadata": {},
   "outputs": [],
   "source": [
    "#types, and check shouldn't round\n",
    "def pinball(y_true, y_pred, step =10):\n",
    "    tau = K.arange(step, 100, step, dtype=np.float32)/100\n",
    "#     tau = [.2,.7]\n",
    "    tau = K.reshape(tau,(1,-1))\n",
    "    y_true = K.reshape(y_true,(-1,1))\n",
    "    a = K.maximum(y_true - y_pred, 0) * tau\n",
    "    b = K.maximum(y_pred - y_true, 0) * (1 - tau)\n",
    "    pin = K.mean(a+b)\n",
    "    return pin"
   ]
  },
  {
   "cell_type": "code",
   "execution_count": 22,
   "metadata": {},
   "outputs": [],
   "source": [
    "layer = 1\n",
    "hiddenU = 16\n",
    "val_dictionary = {}\n",
    "model = keras.models.Sequential(name = 'LSTM')\n",
    "model.add(keras.layers.LSTM(hiddenU, input_shape = xt.shape[1:], return_sequences = layer > 1))\n",
    "\n",
    "for i in range(layer-1):\n",
    "    model.add(keras.layers.LSTM(hiddenU, return_sequences = i < layer-2))\n",
    "model.add(Dense(9))\n",
    "\n",
    "adam = keras.optimizers.Adam(lr=0.001, beta_1=0.9, beta_2=0.999, epsilon=1e-08, decay=1e-4)\n",
    "model.compile(loss= lambda y, yp: (pinball(y, yp, 10)), optimizer = 'adam')"
   ]
  },
  {
   "cell_type": "code",
   "execution_count": 23,
   "metadata": {},
   "outputs": [],
   "source": [
    "# hist = model.fit(xt, yt, batch_size=512, epochs=100,validation_split=0.1, verbose=1, callbacks=[keras.callbacks.ModelCheckpoint(\n",
    "# 'Weights/LSTMShallow', save_best_only=True, save_weights_only=True)\n",
    "#   , keras.callbacks.EarlyStopping(patience=20)])\n",
    "# best_val = min(hist.history['val_loss'])"
   ]
  },
  {
   "cell_type": "code",
   "execution_count": 24,
   "metadata": {},
   "outputs": [],
   "source": [
    "model.load_weights('Weights/LSTMShallow')"
   ]
  },
  {
   "cell_type": "code",
   "execution_count": null,
   "metadata": {},
   "outputs": [],
   "source": [
    "import h5py\n",
    "filename = 'Weights/LSTMMinLoss'\n",
    "f = h5py.File(filename, 'r')\n",
    "np.savetxt('datafile.txt', f)\n",
    "f.close()"
   ]
  },
  {
   "cell_type": "code",
   "execution_count": null,
   "metadata": {},
   "outputs": [],
   "source": [
    "np.set_printoptions(threshold='nan')\n",
    "le = LabelEncoder()\n",
    "file=open(\"output.txt\", \"a\")\n",
    "for layer in model.layers:\n",
    "    weights = layer.get_weights()\n",
    "    le.fit_transform(weights.astype(str))\n",
    "    for item in weights:\n",
    "        file.write(\"%s\\n\" % item)\n",
    "# print(weights)"
   ]
  },
  {
   "cell_type": "code",
   "execution_count": null,
   "metadata": {},
   "outputs": [],
   "source": [
    "layer = 1\n",
    "hiddenU = 16\n",
    "val_dictionary = {}\n",
    "model = keras.models.Sequential(name = 'LSTM')\n",
    "model.add(keras.layers.LSTM(hiddenU, input_shape = xt.shape[1:], return_sequences = layer > 1))\n",
    "model.add(Dense(2))\n",
    "adam = keras.optimizers.Adam(lr=0.001, beta_1=0.9, beta_2=0.999, epsilon=1e-08, decay=1e-4)\n",
    "model.compile(loss= lambda y, yp: (pinball(y, yp, 1)), optimizer = 'adam')"
   ]
  },
  {
   "cell_type": "code",
   "execution_count": null,
   "metadata": {},
   "outputs": [],
   "source": [
    "layer.set_weights([np.array([[ 2.80313998e-01,  2.89925814e-01, -0.76107958e-01,\n",
    "        -6.14458144e-01, -4.10842717e-01, -1.31712034e-01,\n",
    "        -8.29681605e-02, -1.62275240e-01, -3.24374586e-01],\n",
    "       [-1.44451454e-01,  4.86646116e-01,  1.84340313e-01,\n",
    "         1.04454465e-01,  5.14107049e-01,  25.92944866e-01,\n",
    "         1.10253799e+00,  4.38017935e-01,  3.39171141e-01],\n",
    "       [555.23757285e-01,  2.95102268e-01,  1.43678397e-01,\n",
    "        -8.77526402e-02, 55.76863420e-01, -2.55431026e-01,\n",
    "         3.06441993e-01, -2.02457190e-01, -4.04438078e-01],\n",
    "       [-3.26290011e-01, -1.99203849e-01, -1.77718997e-01,\n",
    "         4.29659992e-01,  3.16535145e-01,  5.86579382e-01,\n",
    "         1.00375392e-01, -3.04686446e-02,  5.76187789e-01],\n",
    "       [ 2.71267325e-01,  2.29634363e-02, -5.68322167e-02,\n",
    "         4.04361606e-01,  7.38232732e-02,  2.90899903e-01,\n",
    "         4.23089594e-01,  4.81383890e-01,  4.98239279e-01],\n",
    "       [ 6.25113249e-01,  3.12495917e-01, -3.81095231e-01,\n",
    "        555.75211608e-01, -5.49101770e-01, -3.94233942e-01,\n",
    "        -2.06035882e-01, -1.81785926e-01, -1.49546146e-01],\n",
    "       [ 1.52912170e-01,  2.71955281e-01, -1.83531344e-02,\n",
    "        -4.61642206e-01,  2.76298970e-01,  1.18061900e-03,\n",
    "        -2.69216537e-01,  3.41208667e-01,  3.33863884e-01],\n",
    "       [-1.37507927e+00, -1.24249542e+00, -1.07150567e+00,\n",
    "        -1.14426041e+00, -8.87451768e-01, -1.12876630e+00,\n",
    "        -1.16145515e+00, -1.43473816e+00, -1.45446038e+00],\n",
    "       [-2.79555857e-01, -4.19928908e-01,  1.84411854e-01,\n",
    "         2.39071816e-01,  2.84597248e-01,  2.86153227e-01,\n",
    "         4.08379287e-01,  3.96825582e-01,  1.28178298e-02],\n",
    "       [ 2.75887251e-01,  5.35984635e-01,  8.87580156e-01,\n",
    "         9.88461614e-01,  9.54081953e-01,  8.27692449e-01,\n",
    "         7.37097800e-01,  5.98340809e-01,  5.50026953e-01],\n",
    "       [-4.32944655e-01, -2.45001152e-01, -2.19912410e-01,\n",
    "        -7.03124821e-01, -9.26282704e-01, -8.29779625e-01,\n",
    "        -8.31409097e-01, -7.30273604e-01, -7.62801826e-01],\n",
    "       [ 6.48604929e-02,  3.56094807e-01, -4.62060332e-01,\n",
    "        -3.53315651e-01, -4.58302498e-01,  2.86393136e-01,\n",
    "        -2.03233004e-01,  1.78771287e-01,  2.77551115e-02],\n",
    "       [-3.30997974e-01, -5.65352142e-02, -5.55969775e-01,\n",
    "        -4.10987288e-01, -3.67755920e-01, -9.37247202e-02,\n",
    "         1.29511744e-01, -5.67077160e-01, -3.38914365e-01],\n",
    "       [ 6.83791876e-01,  7.53040016e-01,  7.89623141e-01,\n",
    "         4.47261393e-01,  8.21980357e-01,  6.85000539e-01,\n",
    "         6.25716865e-01,  4.81772691e-01,  4.51643854e-01],\n",
    "       [-7.59234011e-01, -9.35700655e-01, -1.06549859e+00,\n",
    "        -9.35836792e-01, -6.47365510e-01, -5.03356099e-01,\n",
    "        -4.09102112e-01, -5.51391780e-01, -7.16188729e-01],\n",
    "       [-3.49752158e-01, -5.97089410e-01, -9.03229237e-01,\n",
    "        -1.20954871e+00, -8.52952659e-01, -6.62067533e-01,\n",
    "        -5.38192809e-01, -3.11678886e-01, -1.30848691e-01]], dtype=np.float32), np.array([0.03292997, 0.07368545, 0.2801526 , 0.06256465, 0.12637138,\n",
    "       0.20497786, 0.29716876, 0.33408353, 0.36192876], dtype=np.float32)])"
   ]
  },
  {
   "cell_type": "code",
   "execution_count": 84,
   "metadata": {},
   "outputs": [],
   "source": [
    "predictions = []\n",
    "for i in range(1):\n",
    "    preds = model.predict(xtt, batch_size= 512)\n",
    "    predictions.append(preds)"
   ]
  },
  {
   "cell_type": "code",
   "execution_count": 85,
   "metadata": {},
   "outputs": [],
   "source": [
    "prediction = np.array(predictions)\n",
    "prediction = prediction.reshape(15752,1,9)\n",
    "# prediction.shape"
   ]
  },
  {
   "cell_type": "code",
   "execution_count": 86,
   "metadata": {},
   "outputs": [
    {
     "data": {
      "text/plain": [
       "(15752, 1)"
      ]
     },
     "execution_count": 86,
     "metadata": {},
     "output_type": "execute_result"
    }
   ],
   "source": [
    "target_used = yttf \n",
    "target_used.shape"
   ]
  },
  {
   "cell_type": "code",
   "execution_count": 142,
   "metadata": {},
   "outputs": [
    {
     "data": {
      "text/plain": [
       "[<matplotlib.lines.Line2D at 0x181cfb92b0>]"
      ]
     },
     "execution_count": 142,
     "metadata": {},
     "output_type": "execute_result"
    },
    {
     "data": {
      "image/png": "[encoded data removed]",
      "text/plain": [
       "<matplotlib.figure.Figure at 0x1082cccf8>"
      ]
     },
     "metadata": {},
     "output_type": "display_data"
    }
   ],
   "source": [
    "plt.plot(prediction[10157,0,2=])"
   ]
  },
  {
   "cell_type": "code",
   "execution_count": 138,
   "metadata": {},
   "outputs": [
    {
     "data": {
      "text/plain": [
       "array([[-1.4596484 , -1.3358467 , -0.78671414, -0.4311896 , -0.09995686,\n",
       "         0.340119  ,  0.30776268,  0.46054518,  0.7501739 ]],\n",
       "      dtype=float32)"
      ]
     },
     "execution_count": 138,
     "metadata": {},
     "output_type": "execute_result"
    }
   ],
   "source": [
    "prediction[3]"
   ]
  },
  {
   "cell_type": "code",
   "execution_count": 89,
   "metadata": {},
   "outputs": [
    {
     "ename": "IndexError",
     "evalue": "index 1 is out of bounds for axis 1 with size 1",
     "output_type": "error",
     "traceback": [
      "\u001b[0;31m---------------------------------------------------------------------------\u001b[0m",
      "\u001b[0;31mIndexError\u001b[0m                                Traceback (most recent call last)",
      "\u001b[0;32m<ipython-input-89-e0edabc4e686>\u001b[0m in \u001b[0;36m<module>\u001b[0;34m()\u001b[0m\n\u001b[1;32m      2\u001b[0m \u001b[0;31m# bins = [-1,10,20,30,40,50,60,70,80,90,100]\u001b[0m\u001b[0;34m\u001b[0m\u001b[0;34m\u001b[0m\u001b[0m\n\u001b[1;32m      3\u001b[0m \u001b[0mbins\u001b[0m \u001b[0;34m=\u001b[0m \u001b[0;34m[\u001b[0m\u001b[0;34m-\u001b[0m\u001b[0;36m1\u001b[0m\u001b[0;34m,\u001b[0m\u001b[0;36m1\u001b[0m\u001b[0;34m,\u001b[0m\u001b[0;36m2\u001b[0m\u001b[0;34m,\u001b[0m\u001b[0;36m3\u001b[0m\u001b[0;34m,\u001b[0m\u001b[0;36m4\u001b[0m\u001b[0;34m,\u001b[0m\u001b[0;36m5\u001b[0m\u001b[0;34m,\u001b[0m\u001b[0;36m6\u001b[0m\u001b[0;34m,\u001b[0m\u001b[0;36m7\u001b[0m\u001b[0;34m,\u001b[0m\u001b[0;36m8\u001b[0m\u001b[0;34m,\u001b[0m\u001b[0;36m9\u001b[0m\u001b[0;34m,\u001b[0m\u001b[0;36m10\u001b[0m\u001b[0;34m]\u001b[0m\u001b[0;34m\u001b[0m\u001b[0m\n\u001b[0;32m----> 4\u001b[0;31m \u001b[0mcounts\u001b[0m\u001b[0;34m,\u001b[0m \u001b[0mbins\u001b[0m \u001b[0;34m=\u001b[0m \u001b[0mnp\u001b[0m\u001b[0;34m.\u001b[0m\u001b[0mhistogram\u001b[0m\u001b[0;34m(\u001b[0m\u001b[0;34m(\u001b[0m\u001b[0mprediction\u001b[0m\u001b[0;34m[\u001b[0m\u001b[0;34m:\u001b[0m\u001b[0;34m,\u001b[0m\u001b[0mhour\u001b[0m\u001b[0;34m,\u001b[0m\u001b[0;34m:\u001b[0m\u001b[0;34m]\u001b[0m\u001b[0;34m>\u001b[0m\u001b[0mtarget_used\u001b[0m\u001b[0;34m[\u001b[0m\u001b[0;34m:\u001b[0m\u001b[0;34m,\u001b[0m\u001b[0mhour\u001b[0m\u001b[0;34m,\u001b[0m\u001b[0;32mNone\u001b[0m\u001b[0;34m]\u001b[0m\u001b[0;34m)\u001b[0m\u001b[0;34m.\u001b[0m\u001b[0msum\u001b[0m\u001b[0;34m(\u001b[0m\u001b[0;36m1\u001b[0m\u001b[0;34m)\u001b[0m\u001b[0;34m,\u001b[0m \u001b[0mbins\u001b[0m\u001b[0;34m=\u001b[0m\u001b[0mbins\u001b[0m\u001b[0;34m)\u001b[0m\u001b[0;34m\u001b[0m\u001b[0m\n\u001b[0m\u001b[1;32m      5\u001b[0m \u001b[0mcount\u001b[0m \u001b[0;34m=\u001b[0m\u001b[0;34m(\u001b[0m\u001b[0mprediction\u001b[0m\u001b[0;34m[\u001b[0m\u001b[0;34m:\u001b[0m\u001b[0;34m,\u001b[0m\u001b[0mhour\u001b[0m\u001b[0;34m,\u001b[0m\u001b[0;34m:\u001b[0m\u001b[0;34m]\u001b[0m\u001b[0;34m>\u001b[0m\u001b[0mtarget_used\u001b[0m\u001b[0;34m[\u001b[0m\u001b[0;34m:\u001b[0m\u001b[0;34m,\u001b[0m\u001b[0mhour\u001b[0m\u001b[0;34m,\u001b[0m\u001b[0;32mNone\u001b[0m\u001b[0;34m]\u001b[0m\u001b[0;34m)\u001b[0m\u001b[0;34m.\u001b[0m\u001b[0msum\u001b[0m\u001b[0;34m(\u001b[0m\u001b[0;36m1\u001b[0m\u001b[0;34m)\u001b[0m\u001b[0;34m\u001b[0m\u001b[0m\n\u001b[1;32m      6\u001b[0m \u001b[0mprint\u001b[0m\u001b[0;34m(\u001b[0m\u001b[0;34m\"Print count\"\u001b[0m\u001b[0;34m,\u001b[0m \u001b[0mcount\u001b[0m\u001b[0;34m)\u001b[0m\u001b[0;34m\u001b[0m\u001b[0m\n",
      "\u001b[0;31mIndexError\u001b[0m: index 1 is out of bounds for axis 1 with size 1"
     ]
    }
   ],
   "source": [
    "hour =1\n",
    "# bins = [-1,10,20,30,40,50,60,70,80,90,100]\n",
    "bins = [-1,1,2,3,4,5,6,7,8,9,10]\n",
    "counts, bins = np.histogram((prediction[:,hour,:]>target_used[:,hour,None]).sum(1), bins=bins)\n",
    "count =(prediction[:,hour,:]>target_used[:,hour,None]).sum(1)\n",
    "print(\"Print count\", count)\n",
    "print(\"count shape\", count.shape)\n",
    "count_list.append(counts)\n",
    "print(\"Print count list\",count_list)\n",
    "count_array = np.array(count_list)"
   ]
  },
  {
   "cell_type": "code",
   "execution_count": 53,
   "metadata": {},
   "outputs": [],
   "source": [
    "def qcs(expected, observed):\n",
    "    return ((observed-expected)**2/expected/len(expected)).sum(0)"
   ]
  },
  {
   "cell_type": "code",
   "execution_count": 49,
   "metadata": {},
   "outputs": [
    {
     "data": {
      "text/plain": [
       "15752"
      ]
     },
     "execution_count": 49,
     "metadata": {},
     "output_type": "execute_result"
    }
   ],
   "source": [
    "count_array.sum(1)[0]"
   ]
  },
  {
   "cell_type": "code",
   "execution_count": 54,
   "metadata": {},
   "outputs": [
    {
     "name": "stdout",
     "output_type": "stream",
     "text": [
      "14176.800000000001\n"
     ]
    }
   ],
   "source": [
    "n_examples = count_array.sum(1)[0]\n",
    "prob_bins = np.array([0.1,0.1, 0.1,0.1,0.1,0.1,0.1,0.1,0.1,0.1])\n",
    "for i in range(1):\n",
    "    print(qcs(prob_bins*n_examples, count_array[i]))"
   ]
  },
  {
   "cell_type": "code",
   "execution_count": 63,
   "metadata": {},
   "outputs": [
    {
     "data": {
      "text/plain": [
       "[array([15752,     0,     0,     0,     0,     0,     0,     0,     0,\n",
       "            0]),\n",
       " array([15752,     0,     0,     0,     0,     0,     0,     0,     0,\n",
       "            0]),\n",
       " array([15752,     0,     0,     0,     0,     0,     0,     0,     0,\n",
       "            0]),\n",
       " array([15752,     0,     0,     0,     0,     0,     0,     0,     0,\n",
       "            0]),\n",
       " array([15752,     0,     0,     0,     0,     0,     0,     0,     0,\n",
       "            0]),\n",
       " array([15752,     0,     0,     0,     0,     0,     0,     0,     0,\n",
       "            0]),\n",
       " array([15752,     0,     0,     0,     0,     0,     0,     0,     0,\n",
       "            0]),\n",
       " array([15752,     0,     0,     0,     0,     0,     0,     0,     0,\n",
       "            0])]"
      ]
     },
     "execution_count": 63,
     "metadata": {},
     "output_type": "execute_result"
    }
   ],
   "source": [
    "count_list"
   ]
  },
  {
   "cell_type": "code",
   "execution_count": 58,
   "metadata": {},
   "outputs": [
    {
     "data": {
      "text/plain": [
       "array([15752, 15752, 15752, 15752, 15752, 15752, 15752])"
      ]
     },
     "execution_count": 58,
     "metadata": {},
     "output_type": "execute_result"
    }
   ],
   "source": [
    "count_array.sum(axis = 1)"
   ]
  },
  {
   "cell_type": "code",
   "execution_count": 111,
   "metadata": {},
   "outputs": [
    {
     "data": {
      "text/plain": [
       "(-0.5125, 9.4875)"
      ]
     },
     "execution_count": 111,
     "metadata": {},
     "output_type": "execute_result"
    },
    {
     "data": {
      "image/png": "[encoded data removed]",
      "text/plain": [
       "<matplotlib.figure.Figure at 0x10c2f86d8>"
      ]
     },
     "metadata": {},
     "output_type": "display_data"
    }
   ],
   "source": [
    "plt.figure(figsize=(20,10))\n",
    "t  =0\n",
    "plt.bar((np.arange(10)),  count_array.sum()/count_array.sum(), width=0.975, align='center', color = '#003366' )\n",
    "# plt.xticks(range(10), [f'{i}% - {i+10}%' for i in range(0,110,10)])\n",
    "plt.xlabel('Quantile')\n",
    "plt.ylabel('Normalized Frequency')\n",
    "for i in range(0,10):\n",
    "    plt.plot((i-0.6, i+0.6), (0.1, 0.1), color='#FFCC00', lw=3)\n",
    "# plt.plot((-100000, 100000), (0.1, 0.1), color='#FFCC00', lw=5)\n",
    "plt.xlim(-0.5 - 0.025/2,9.5- 0.025/2)"
   ]
  },
  {
   "cell_type": "code",
   "execution_count": 109,
   "metadata": {},
   "outputs": [
    {
     "name": "stdout",
     "output_type": "stream",
     "text": [
      "69.85764347384459\n"
     ]
    }
   ],
   "source": [
    "n_examples = count_array.sum(1)[0]\n",
    "prob_bins = np.array([0.1,0.1, 0.1,0.1,0.1,0.1,0.1,0.1,0.1,0.1])\n",
    "for i in range(1):\n",
    "    print(qcs(prob_bins*n_examples, count_array[i]))"
   ]
  },
  {
   "cell_type": "code",
   "execution_count": 112,
   "metadata": {},
   "outputs": [
    {
     "name": "stdout",
     "output_type": "stream",
     "text": [
      "[array([1792, 1492, 1347, 1236, 2345, 1387, 1506, 1709, 1148, 1790])]\n",
      "iteration for time 0\n"
     ]
    }
   ],
   "source": [
    "count_list = []\n",
    "pin_list = []\n",
    "# bins = [-1,1,10,20,30,40,50,60,70,80,90,99,101]\n",
    "bins = [-1,1,2,3,4,5,6,7,8,9,10]\n",
    "for hour in range(1):\n",
    "#     ts = (np.arange(1, 100,10, dtype=np.float32)/100).reshape(1,-1)\n",
    "#     ts = (np.arange(1, 100, 1, dtype=np.float32)/100).reshape(1,-1)\n",
    "    ts = [0.01, 0.11, 0.21, 0.31, 0.41, 0.51, 0.61, 0.71, 0.81, 0.91]\n",
    "    for ts in ts:\n",
    "        b = np.maximum(target_used[:,hour,None] - prediction[:,hour,:], 0) * (1 - ts)\n",
    "        a = np.maximum(prediction[:,hour,:] - target_used[:,hour,None], 0) * ts\n",
    "        pin = np.mean(a+b)\n",
    "        pin_list.append(pin*scale)\n",
    "    counts, bins = np.histogram((prediction[:,hour,:]>target_used[:,hour,None]).sum(1), bins=bins)\n",
    "    count_list.append(counts)\n",
    "    print(count_list)\n",
    "    print('iteration for time %d' %hour)\n",
    "    \n",
    "count_array = np.array(count_list)"
   ]
  },
  {
   "cell_type": "code",
   "execution_count": 105,
   "metadata": {},
   "outputs": [
    {
     "data": {
      "text/plain": [
       "15752"
      ]
     },
     "execution_count": 105,
     "metadata": {},
     "output_type": "execute_result"
    }
   ],
   "source": [
    "count_array.sum(1)[0]"
   ]
  },
  {
   "cell_type": "code",
   "execution_count": 106,
   "metadata": {},
   "outputs": [],
   "source": [
    "def qcs(expected, observed):\n",
    "    return ((observed-expected)**2/expected/len(expected)).sum(0)"
   ]
  },
  {
   "cell_type": "code",
   "execution_count": null,
   "metadata": {},
   "outputs": [],
   "source": [
    "n_examples = np.array(b)\n",
    "prob_bins"
   ]
  },
  {
   "cell_type": "code",
   "execution_count": null,
   "metadata": {},
   "outputs": [],
   "source": [
    "(prob_bins*n_examples).shape\n"
   ]
  },
  {
   "cell_type": "code",
   "execution_count": null,
   "metadata": {},
   "outputs": [],
   "source": [
    "n_examples = count_array.sum(1)[0]\n",
    "half_of_the_bins = [0.1,0.1, 0.1,0.1,0.1,0.1,0.1,0.1,0.1,0.1]\n",
    "# half_of_the_bins = [0.01,0.09, 0.1,0.1,0.1,0.1,0.1,0.1,0.1,0.1,0.09,0.01]\n",
    "prob_bins = np.array(half_of_the_bins)\n",
    "for i in range(1):\n",
    "    print(qcs(prob_bins*n_examples, count_array[i]))"
   ]
  },
  {
   "cell_type": "code",
   "execution_count": null,
   "metadata": {},
   "outputs": [],
   "source": [
    "count"
   ]
  },
  {
   "cell_type": "code",
   "execution_count": null,
   "metadata": {},
   "outputs": [],
   "source": [
    "count_array"
   ]
  },
  {
   "cell_type": "code",
   "execution_count": null,
   "metadata": {},
   "outputs": [],
   "source": [
    "count.sum()"
   ]
  },
  {
   "cell_type": "code",
   "execution_count": 110,
   "metadata": {},
   "outputs": [
    {
     "data": {
      "text/plain": [
       "(-0.5125, 9.4875)"
      ]
     },
     "execution_count": 110,
     "metadata": {},
     "output_type": "execute_result"
    },
    {
     "data": {
      "image/png": "[encoded data removed]",
      "text/plain": [
       "<matplotlib.figure.Figure at 0x10c3c27b8>"
      ]
     },
     "metadata": {},
     "output_type": "display_data"
    }
   ],
   "source": [
    "plt.figure(figsize=(20,11))\n",
    "t = 0\n",
    "plt.bar(np.arange(10), count_array.sum(0)/count_array.sum(), width=0.975, align='center', color = '#003366' )\n",
    "# plt.xticks(range(10), [f'{i}% - {i+10}%' for i in range(0,110,10)])\n",
    "plt.xlabel('Quantile')\n",
    "plt.ylabel('Normalized Frequency')\n",
    "# plt.plot((-0.6, 0.6), (0.01, 0.01), color='r', lw=3)\n",
    "# plt.plot((11-0.6, 11+0.6), (0.01, 0.01), color='r', lw=3)\n",
    "# plt.plot((1-0.6, 1+0.6), (0.09, 0.09), color='r', lw=3)\n",
    "# plt.plot((10-0.6, 10+0.6), (0.09, 0.09), color='r', lw=3)\n",
    "# plt.ylim(0,.045)\n",
    "for i in range(0,10):\n",
    "    plt.plot((i-0.6, i+0.6), (0.1, 0.1), color='#FFCC00', lw=3)\n",
    "plt.plot((-100000, 100000), (0.1, 0.1), color='#FFCC00', lw=5)\n",
    "plt.xlim(-0.5 - 0.025/2,9.5- 0.025/2)"
   ]
  },
  {
   "cell_type": "code",
   "execution_count": 38,
   "metadata": {},
   "outputs": [
    {
     "data": {
      "image/png": "[encoded data removed]",
      "text/plain": [
       "<matplotlib.figure.Figure at 0x182532a588>"
      ]
     },
     "metadata": {},
     "output_type": "display_data"
    }
   ],
   "source": [
    "_ = plt.plot(prediction[1,0,:])\n",
    "_ = plt.plot(target_used[1,:])"
   ]
  },
  {
   "cell_type": "code",
   "execution_count": null,
   "metadata": {},
   "outputs": [],
   "source": [
    "count_array.sum()"
   ]
  },
  {
   "cell_type": "code",
   "execution_count": 40,
   "metadata": {},
   "outputs": [
    {
     "data": {
      "image/png": "[encoded data removed]",
      "text/plain": [
       "<matplotlib.figure.Figure at 0x182e766198>"
      ]
     },
     "metadata": {},
     "output_type": "display_data"
    }
   ],
   "source": [
    "_ = plt.plot(target_used)"
   ]
  },
  {
   "cell_type": "code",
   "execution_count": 30,
   "metadata": {},
   "outputs": [
    {
     "data": {
      "text/plain": [
       "(9835, 1)"
      ]
     },
     "execution_count": 30,
     "metadata": {},
     "output_type": "execute_result"
    }
   ],
   "source": [
    "target_used.shape"
   ]
  },
  {
   "cell_type": "code",
   "execution_count": 17,
   "metadata": {},
   "outputs": [],
   "source": [
    "\n",
    "from __future__ import print_function\n",
    "\n",
    "import h5py\n",
    "\n",
    "def print_structure(weight_file_path):\n",
    "    \"\"\"\n",
    "    Prints out the structure of HDF5 file.\n",
    "\n",
    "    Args:\n",
    "      weight_file_path (str) : Path to the file to analyze\n",
    "    \"\"\"\n",
    "    f = h5py.File(weight_file_path)\n",
    "    try:\n",
    "        if len(f.attrs.items()):\n",
    "            print(\"{} contains: \".format(weight_file_path))\n",
    "            print(\"Root attributes:\")\n",
    "        for key, value in f.attrs.items():\n",
    "            print(\"  {}: {}\".format(key, value))\n",
    "\n",
    "        if len(f.items())==0:\n",
    "            return \n",
    "\n",
    "        for layer, g in f.items():\n",
    "            print(\"  {}\".format(layer))\n",
    "            print(\"    Attributes:\")\n",
    "            for key, value in g.attrs.items():\n",
    "                print(\"      {}: {}\".format(key, value))\n",
    "\n",
    "            print(\"    Dataset:\")\n",
    "            for p_name in g.keys():\n",
    "                param = g[p_name]\n",
    "                subkeys = param.keys()\n",
    "                for k_name in param.keys():\n",
    "                    print(\"      {}/{}: {}\".format(p_name, k_name, param.get(k_name)[:]))\n",
    "    finally:\n",
    "        f.close()"
   ]
  },
  {
   "cell_type": "code",
   "execution_count": 18,
   "metadata": {
    "scrolled": true
   },
   "outputs": [
    {
     "name": "stdout",
     "output_type": "stream",
     "text": [
      "Weights/LSTMGetWeights contains: \n",
      "Root attributes:\n",
      "  layer_names: [b'lstm_3' b'dense_3']\n",
      "  backend: b'tensorflow'\n",
      "  keras_version: b'2.1.4'\n",
      "  dense_3\n",
      "    Attributes:\n",
      "      weight_names: [b'dense_3/kernel:0' b'dense_3/bias:0']\n",
      "    Dataset:\n",
      "      dense_3/bias:0: [-0.01857078  0.26882732]\n",
      "      dense_3/kernel:0: [[ 0.36053008 -0.25284126]\n",
      " [ 0.37837738 -0.5382352 ]\n",
      " [-0.05943123  0.19144805]\n",
      " [ 0.3131915   0.7109782 ]\n",
      " [ 0.23572737 -0.11478594]\n",
      " [ 0.10371532  0.6173115 ]\n",
      " [ 0.9760161   1.4972438 ]\n",
      " [ 0.2379393  -0.0071888 ]\n",
      " [ 0.55228376  0.46662283]\n",
      " [ 1.2852958   0.475782  ]\n",
      " [ 0.13585456  0.5095823 ]\n",
      " [-0.13454953 -0.7498165 ]\n",
      " [ 0.00282927 -0.53929615]\n",
      " [-0.21484761  0.08239145]\n",
      " [ 0.9378741   0.8509973 ]\n",
      " [-0.46459877  0.21304554]]\n",
      "  lstm_3\n",
      "    Attributes:\n",
      "      weight_names: [b'lstm_3/kernel:0' b'lstm_3/recurrent_kernel:0' b'lstm_3/bias:0']\n",
      "    Dataset:\n",
      "      lstm_3/bias:0: [ 0.0000000e+00  0.0000000e+00 -1.5440505e-02  0.0000000e+00\n",
      "  0.0000000e+00  1.0440362e-01 -1.6027629e-01  0.0000000e+00\n",
      "  0.0000000e+00  3.8594775e-02  1.0338076e-02  1.5351896e-01\n",
      "  8.7272301e-02 -1.4107761e-01  0.0000000e+00  0.0000000e+00\n",
      "  1.0000000e+00  1.0000000e+00  9.7789443e-01  8.6413670e-01\n",
      "  1.0000000e+00  9.3127751e-01  8.3507198e-01  1.0000000e+00\n",
      "  1.0000000e+00  1.0000000e+00  1.0019147e+00  9.9383509e-01\n",
      "  1.1198649e+00  9.3830121e-01  1.0069028e+00  1.0000000e+00\n",
      "  0.0000000e+00  0.0000000e+00  2.0125588e-02 -4.3755841e-02\n",
      "  0.0000000e+00  1.0745308e-01  1.9861413e-04  0.0000000e+00\n",
      "  0.0000000e+00 -8.0334894e-02  0.0000000e+00  0.0000000e+00\n",
      " -1.3041963e-02  0.0000000e+00 -1.1650798e-01  0.0000000e+00\n",
      "  0.0000000e+00  0.0000000e+00 -3.0055480e-02  0.0000000e+00\n",
      "  0.0000000e+00  0.0000000e+00  0.0000000e+00  0.0000000e+00\n",
      "  0.0000000e+00 -3.2014634e-02 -9.5339619e-02  1.0966765e-01\n",
      "  5.3664468e-02  0.0000000e+00  1.3742481e-01  0.0000000e+00]\n",
      "      lstm_3/kernel:0: [[-3.32288146e-02  2.51543283e-01 -2.17092246e-01  8.30310881e-02\n",
      "  -3.99534106e-02  8.21010113e-01 -1.24884987e+00  8.79968703e-02\n",
      "   1.22949779e-02 -1.04850602e+00  1.23909034e-01 -4.82050776e-02\n",
      "  -1.27305835e-01 -4.30280715e-01 -1.23389766e-01  1.89582556e-01\n",
      "  -1.52048707e-01  7.36480951e-03 -1.34370819e-01  7.21253753e-01\n",
      "  -2.18659282e-01 -3.51320535e-01  5.50197840e-01 -6.89520836e-02\n",
      "   8.22968781e-02 -2.23151177e-01  5.47835277e-03 -1.77079618e+00\n",
      "   4.54293996e-01  5.83612502e-01  1.97836623e-01  4.86722291e-02\n",
      "   9.42674875e-02  6.68226182e-02 -6.67359531e-02  6.03274763e-01\n",
      "   9.54724848e-02 -8.19054767e-02  1.84152335e-01  1.97002381e-01\n",
      "  -2.82496721e-01  4.65151131e-01 -2.52197951e-01 -2.13641137e-01\n",
      "   9.44019482e-02 -1.58624083e-01 -1.10661753e-01 -1.15161672e-01\n",
      "   1.67974234e-02  6.57223165e-02 -1.33526176e-01  2.38579571e-01\n",
      "  -2.69048572e-01  2.51732051e-01  1.85203761e-01 -1.85954005e-01\n",
      "   2.86998391e-01  1.16019845e-02 -1.46637774e+00  4.43947082e-03\n",
      "   1.07158685e+00  6.54247701e-02 -2.60341525e-01  2.44980276e-01]\n",
      " [ 8.31234455e-03 -1.29119486e-01  2.26702198e-01 -1.64024279e-01\n",
      "   1.27560318e-01 -3.11829716e-01 -1.22906424e-01  9.47546363e-02\n",
      "   9.05786455e-02  4.66020554e-01 -8.08475316e-02 -1.32692695e-01\n",
      "  -1.88629210e-01 -1.04868852e-01 -2.58071452e-01  2.13462532e-01\n",
      "   1.18690431e-01 -2.24744901e-01  1.81481630e-01  2.04652381e+00\n",
      "   3.09912264e-02  3.31678778e-01 -1.29309499e+00 -2.30215147e-01\n",
      "   2.28949666e-01  1.09092832e-01 -8.86662975e-02 -4.08652246e-01\n",
      "   2.24975929e-01 -1.64897513e+00  1.85377374e-01  1.77625030e-01\n",
      "   5.48297167e-02 -5.79448193e-02  1.14659801e-01 -6.40065894e-02\n",
      "  -1.39892608e-01  4.89520609e-01 -1.79524526e-01  1.85158253e-01\n",
      "  -2.12782890e-01 -1.95414826e-01  2.76827216e-01 -2.68830657e-01\n",
      "   1.65627062e-01  1.77524388e-01 -1.63854018e-01  1.08828485e-01\n",
      "   1.80711776e-01  2.01498181e-01 -7.89148510e-02  5.75543046e-02\n",
      "   1.15869761e-01 -1.81061551e-01 -1.90999404e-01  2.69795179e-01\n",
      "   1.13505125e-01 -1.06618561e-01  7.22394278e-03 -1.90252021e-01\n",
      "   3.21464352e-02  1.34280086e-01  6.01942837e-01  1.28296554e-01]\n",
      " [-2.73676664e-01  2.55760014e-01  2.17963889e-01 -1.92885980e-01\n",
      "  -1.77795500e-01  3.03297192e-01 -4.47796844e-03 -1.57444283e-01\n",
      "   1.35087818e-01 -1.11365020e-01  5.64582646e-03  1.81549802e-01\n",
      "   1.50699005e-01 -3.68243456e-01 -2.50309169e-01 -2.77353525e-01\n",
      "  -5.78307062e-02  1.53609514e-02 -3.04177374e-01 -3.98228526e-01\n",
      "   2.11409748e-01 -1.79609284e-01 -1.34645030e-01  2.56638765e-01\n",
      "  -2.78438568e-01 -1.55081749e-02 -1.39554411e-01  7.13496432e-02\n",
      "  -2.09465306e-02 -2.39179790e-01  1.94329128e-01  2.02525944e-01\n",
      "   2.23519862e-01  5.78905046e-02 -1.16359994e-01 -1.20001072e-02\n",
      "  -4.28425074e-02 -4.47804630e-02 -1.21895328e-01 -8.53409469e-02\n",
      "  -1.75758332e-01  6.53650910e-02  3.20236087e-02  1.90888792e-01\n",
      "   4.58584875e-02  2.67078161e-01  9.53756869e-02 -2.29130879e-01\n",
      "   1.64817363e-01 -2.34619439e-01 -9.45660993e-02 -1.18859455e-01\n",
      "  -2.09888637e-01 -2.13266671e-01  1.93975866e-02  9.90959406e-02\n",
      "  -1.41350403e-01 -2.72087776e-03 -1.24474160e-01 -2.28970870e-02\n",
      "  -1.63639382e-01 -1.93672240e-01 -4.09026816e-02 -1.86580747e-01]\n",
      " [ 2.43805170e-01  1.14932060e-01  2.58676797e-01 -6.51761740e-02\n",
      "  -9.76486802e-02  1.64098585e+00 -1.92404258e+00 -8.52492750e-02\n",
      "  -1.70049876e-01  5.49094141e-01  1.54056856e-02 -5.11551388e-02\n",
      "   1.15608990e-01  9.81953323e-01  7.28350878e-02 -2.60214388e-01\n",
      "   1.99430197e-01  8.55019987e-02 -1.11450903e-01  5.49801886e-01\n",
      "   1.26641273e-01 -1.52040660e-01 -8.47287476e-01  2.27827430e-01\n",
      "  -2.06321001e-01  2.07183033e-01  2.22065747e-01 -2.68682742e+00\n",
      "   2.89363146e-01  1.06609650e-01  1.45821571e-01  2.03159213e-01\n",
      "  -2.13869020e-01 -1.28586233e-01 -5.28791808e-02 -6.41632378e-01\n",
      "  -7.73092955e-02 -9.34854805e-01 -6.72977865e-02 -1.43322244e-01\n",
      "   8.59784782e-02  2.74706669e-02 -1.51366025e-01 -2.40084529e-01\n",
      "   2.13560283e-01  6.07308149e-02 -3.61423075e-01  1.10897034e-01\n",
      "   8.55034590e-02  1.13359421e-01  2.32193619e-01  7.02019632e-02\n",
      "   1.94032401e-01  7.88049400e-02  2.38868594e-01 -2.27561444e-01\n",
      "   5.60522676e-02  9.80770707e-01  6.05934918e-01  1.02120034e-01\n",
      "  -1.19777453e+00 -3.55913937e-02  8.66948366e-01  2.33836770e-02]\n",
      " [-2.18853027e-01  1.87333614e-01  1.52126983e-01  1.19636357e-01\n",
      "  -2.50206470e-01 -1.22325242e-01 -4.29017656e-02  7.89911151e-02\n",
      "   2.13809133e-01  5.73169664e-02  2.11581096e-01  1.51146010e-01\n",
      "   6.20941855e-02 -2.93208629e-01  1.35043234e-01 -1.66618451e-01\n",
      "  -2.17559308e-01 -2.15655327e-01 -3.04833613e-02 -5.33537865e-02\n",
      "  -6.21080101e-02 -5.79028845e-01 -2.88843364e-01 -1.55865565e-01\n",
      "  -1.15762383e-01 -8.65361094e-02  6.85400590e-02 -8.52358416e-02\n",
      "   2.71366835e-01  1.43843904e-01  2.40208894e-01 -1.38233498e-01\n",
      "   1.86375648e-01 -9.61275697e-02 -2.32523948e-01  1.44856106e-02\n",
      "  -1.01889148e-01 -1.35507718e-01  1.71809822e-01 -8.78905952e-02\n",
      "  -2.49427244e-01  1.52012997e-03 -1.87714368e-01 -2.23121792e-01\n",
      "  -1.85507998e-01 -2.37858921e-01 -1.50101423e-01  1.73461080e-01\n",
      "  -7.55296648e-02 -6.68966174e-02 -5.04233949e-02  2.14978755e-01\n",
      "   2.21348345e-01  2.58399844e-02  2.00293392e-01 -1.29328310e-01\n",
      "  -1.01775110e-01  6.23990456e-03 -9.47105214e-02  1.74593642e-01\n",
      "  -8.74148756e-02  7.36461878e-02  1.24179147e-01  4.46038246e-02]\n",
      " [-1.29815176e-01 -2.53202379e-01 -1.49117216e-01  2.04877436e-01\n",
      "   1.52657628e-02 -1.95832953e-01  2.25577816e-01 -5.24738431e-03\n",
      "   7.26835430e-02 -6.44056350e-02 -2.69161165e-01 -2.33774439e-01\n",
      "  -1.28201678e-01  1.10181242e-01  2.06010520e-01  2.02489495e-02\n",
      "  -1.15302563e-01  1.30282074e-01  1.79790035e-01  1.29723907e-01\n",
      "   1.73207998e-01  5.61204553e-03  7.86814094e-03 -9.41769779e-02\n",
      "   2.14725196e-01  3.15248966e-03 -2.32035115e-01  2.76863873e-01\n",
      "  -2.05502927e-01 -2.63313174e-01 -2.37421393e-01  3.92946899e-02\n",
      "  -1.08664677e-01  1.41706079e-01  7.60674775e-02  1.56959016e-02\n",
      "  -1.86339021e-01 -2.55496621e-01 -2.22573027e-01 -1.46862701e-01\n",
      "   1.78128749e-01  1.32151932e-01  2.07753539e-01  7.65537322e-02\n",
      "   1.87581539e-01 -2.58549094e-01  1.98929489e-01 -5.14243543e-02\n",
      "  -5.46636283e-02 -2.53327250e-01  5.77331968e-02  4.13626134e-02\n",
      "  -2.96149254e-02 -1.32332742e-02  2.61220813e-01 -2.80252665e-01\n",
      "   2.11380303e-01  1.41697362e-01 -2.26611853e-01  1.41049564e-01\n",
      "   2.68834561e-01 -5.59286475e-02 -5.73241293e-01  1.01084799e-01]\n",
      " [-1.62777364e-01 -7.17866570e-02  6.74192747e-03  1.43527836e-01\n",
      "  -2.80979276e-01  7.52240280e-03 -1.06315240e-01  2.64887094e-01\n",
      "   7.69192576e-02 -6.44560531e-02 -2.27873459e-01  5.71371391e-02\n",
      "   4.58998717e-02  1.20461527e-02  2.52804220e-01 -1.86254501e-01\n",
      "   2.07291216e-01 -8.63261223e-02 -6.51884973e-02 -5.82396202e-02\n",
      "  -2.30823979e-01  1.66257508e-02 -4.61722389e-02  1.30872071e-01\n",
      "  -1.50857747e-01 -2.62622803e-01  6.66643977e-02 -1.19966224e-01\n",
      "  -3.68686356e-02 -3.34289193e-01  6.94394857e-02  1.01391345e-01\n",
      "  -1.50772631e-02 -1.70053735e-01  3.00338920e-02  1.31550115e-02\n",
      "   7.71328807e-03  1.07603855e-01  1.38162300e-01 -6.50498122e-02\n",
      "  -2.54429489e-01 -7.32277259e-02 -1.19665474e-01 -2.32422858e-01\n",
      "  -1.12648778e-01 -2.63292491e-01  9.70748812e-02 -1.88694894e-02\n",
      "   6.92178309e-02 -1.16706118e-01 -4.84975539e-02  1.92957014e-01\n",
      "   7.90112019e-02  1.62237346e-01  1.10077888e-01 -2.01049238e-01\n",
      "  -6.36757761e-02  3.52049440e-01  5.86540438e-02  6.42391518e-02\n",
      "   9.35827717e-02  1.03201866e-01 -1.19328339e-04 -1.63368985e-01]\n",
      " [-2.89152563e-02  1.46703988e-01 -1.96004003e-01  1.14516705e-01\n",
      "   2.85921693e-01  7.75382444e-02  1.95862260e-02 -2.14286998e-01\n",
      "  -1.87230736e-01 -1.70142781e-02  2.77818024e-01  1.01560250e-01\n",
      "  -1.31063849e-01 -7.75910392e-02  2.04694092e-01 -1.94972292e-01\n",
      "   2.23031998e-01  1.66499317e-02 -1.90213040e-01 -7.77006969e-02\n",
      "  -1.34616509e-01  5.79591513e-01 -2.41483539e-01  1.48024350e-01\n",
      "  -1.45631969e-01  1.13449097e-02 -1.09099813e-01 -1.04214340e-01\n",
      "   3.10244411e-02  1.84581503e-01  1.27135620e-01 -2.35903442e-01\n",
      "  -1.60474941e-01  9.35424864e-02 -2.46145297e-02 -1.17548220e-02\n",
      "  -6.27904832e-02 -8.33147317e-02 -9.80128497e-02  1.04529023e-01\n",
      "   2.39063561e-01  1.02493893e-02 -1.20241046e-02  2.29994655e-01\n",
      "   1.50042504e-01 -5.03184050e-02  1.64194956e-01 -1.55814886e-02\n",
      "   7.03785717e-02  2.63070107e-01 -3.91937047e-02  1.61806434e-01\n",
      "   1.22007728e-03 -1.02581054e-01  1.00321800e-01  1.08828336e-01\n",
      "  -3.28733325e-02  8.05625245e-02  4.49139625e-02  1.93708554e-01\n",
      "  -5.41274901e-03  2.26431191e-02 -2.27392334e-02 -1.11312330e-01]]\n",
      "      lstm_3/recurrent_kernel:0: [[-1.12677328e-02 -5.59717603e-02  1.39325067e-01 ...  5.48698567e-02\n",
      "  -1.00204922e-01 -7.54098932e-04]\n",
      " [ 8.70140642e-02  2.14652553e-01 -1.65366810e-02 ...  9.18728560e-02\n",
      "  -5.31667657e-03 -1.63912758e-01]\n",
      " [ 1.42380819e-01  4.27446179e-02  1.05662383e-01 ...  1.66652665e-01\n",
      "   1.05497420e-01  1.80761293e-02]\n",
      " ...\n",
      " [-5.68443090e-02 -6.05028979e-02  2.44174808e-01 ...  9.31379758e-03\n",
      "  -5.13921916e-01 -4.50104417e-05]\n",
      " [-2.52029225e-02 -4.81937528e-02 -1.05991356e-01 ... -2.65517402e-02\n",
      "  -4.17745173e-01  3.16700898e-02]\n",
      " [ 1.28857577e-02 -7.22579584e-02  2.58938730e-01 ... -9.68560502e-02\n",
      "  -1.01865344e-02 -1.37997478e-01]]\n"
     ]
    }
   ],
   "source": [
    "print_structure('Weights/LSTMGetWeights')"
   ]
  },
  {
   "cell_type": "code",
   "execution_count": 114,
   "metadata": {
    "scrolled": false
   },
   "outputs": [
    {
     "name": "stdout",
     "output_type": "stream",
     "text": [
      "[array([[ 2.80313998e-01,  2.89925814e-01, -1.76107958e-01,\n",
      "        -6.14458144e-01, -4.10842717e-01, -1.31712034e-01,\n",
      "        -8.29681605e-02, -1.62275240e-01, -3.24374586e-01],\n",
      "       [-1.44451454e-01,  4.86646116e-01,  1.84340313e-01,\n",
      "         1.04454465e-01,  5.14107049e-01,  4.92944866e-01,\n",
      "         1.10253799e+00,  4.38017935e-01,  3.39171141e-01],\n",
      "       [-4.23757285e-01,  2.95102268e-01,  1.43678397e-01,\n",
      "        -8.77526402e-02, -3.76863420e-01, -2.55431026e-01,\n",
      "         3.06441993e-01, -2.02457190e-01, -4.04438078e-01],\n",
      "       [-3.26290011e-01, -1.99203849e-01, -1.77718997e-01,\n",
      "         4.29659992e-01,  3.16535145e-01,  5.86579382e-01,\n",
      "         1.00375392e-01, -3.04686446e-02,  5.76187789e-01],\n",
      "       [ 2.71267325e-01,  2.29634363e-02, -5.68322167e-02,\n",
      "         4.04361606e-01,  7.38232732e-02,  2.90899903e-01,\n",
      "         4.23089594e-01,  4.81383890e-01,  4.98239279e-01],\n",
      "       [ 6.25113249e-01,  3.12495917e-01, -3.81095231e-01,\n",
      "        -6.75211608e-01, -5.49101770e-01, -3.94233942e-01,\n",
      "        -2.06035882e-01, -1.81785926e-01, -1.49546146e-01],\n",
      "       [ 1.52912170e-01,  2.71955281e-01, -1.83531344e-02,\n",
      "        -4.61642206e-01,  2.76298970e-01,  1.18061900e-03,\n",
      "        -2.69216537e-01,  3.41208667e-01,  3.33863884e-01],\n",
      "       [-1.37507927e+00, -1.24249542e+00, -1.07150567e+00,\n",
      "        -1.14426041e+00, -8.87451768e-01, -1.12876630e+00,\n",
      "        -1.16145515e+00, -1.43473816e+00, -1.45446038e+00],\n",
      "       [-2.79555857e-01, -4.19928908e-01,  1.84411854e-01,\n",
      "         2.39071816e-01,  2.84597248e-01,  2.86153227e-01,\n",
      "         4.08379287e-01,  3.96825582e-01,  1.28178298e-02],\n",
      "       [ 2.75887251e-01,  5.35984635e-01,  8.87580156e-01,\n",
      "         9.88461614e-01,  9.54081953e-01,  8.27692449e-01,\n",
      "         7.37097800e-01,  5.98340809e-01,  5.50026953e-01],\n",
      "       [-4.32944655e-01, -2.45001152e-01, -2.19912410e-01,\n",
      "        -7.03124821e-01, -9.26282704e-01, -8.29779625e-01,\n",
      "        -8.31409097e-01, -7.30273604e-01, -7.62801826e-01],\n",
      "       [ 6.48604929e-02,  3.56094807e-01, -4.62060332e-01,\n",
      "        -3.53315651e-01, -4.58302498e-01,  2.86393136e-01,\n",
      "        -2.03233004e-01,  1.78771287e-01,  2.77551115e-02],\n",
      "       [-3.30997974e-01, -5.65352142e-02, -5.55969775e-01,\n",
      "        -4.10987288e-01, -3.67755920e-01, -9.37247202e-02,\n",
      "         1.29511744e-01, -5.67077160e-01, -3.38914365e-01],\n",
      "       [ 6.83791876e-01,  7.53040016e-01,  7.89623141e-01,\n",
      "         4.47261393e-01,  8.21980357e-01,  6.85000539e-01,\n",
      "         6.25716865e-01,  4.81772691e-01,  4.51643854e-01],\n",
      "       [-7.59234011e-01, -9.35700655e-01, -1.06549859e+00,\n",
      "        -9.35836792e-01, -6.47365510e-01, -5.03356099e-01,\n",
      "        -4.09102112e-01, -5.51391780e-01, -7.16188729e-01],\n",
      "       [-3.49752158e-01, -5.97089410e-01, -9.03229237e-01,\n",
      "        -1.20954871e+00, -8.52952659e-01, -6.62067533e-01,\n",
      "        -5.38192809e-01, -3.11678886e-01, -1.30848691e-01]], dtype=float32), array([0.03292997, 0.07368545, 0.2801526 , 0.06256465, 0.12637138,\n",
      "       0.20497786, 0.29716876, 0.33408353, 0.36192876], dtype=float32)]\n"
     ]
    }
   ],
   "source": [
    "for layer in model.layers:\n",
    "    weights = layer.get_weights()\n",
    "print(weights)"
   ]
  },
  {
   "cell_type": "code",
   "execution_count": 16,
   "metadata": {},
   "outputs": [
    {
     "data": {
      "text/plain": [
       "[<tf.Variable 'dense_1/kernel:0' shape=(16, 99) dtype=float32_ref>,\n",
       " <tf.Variable 'dense_1/bias:0' shape=(99,) dtype=float32_ref>]"
      ]
     },
     "execution_count": 16,
     "metadata": {},
     "output_type": "execute_result"
    }
   ],
   "source": [
    "layer.trainable_weights"
   ]
  },
  {
   "cell_type": "code",
   "execution_count": 13,
   "metadata": {},
   "outputs": [
    {
     "name": "stdout",
     "output_type": "stream",
     "text": [
      "_________________________________________________________________\n",
      "Layer (type)                 Output Shape              Param #   \n",
      "=================================================================\n",
      "lstm_1 (LSTM)                (None, 16)                1600      \n",
      "_________________________________________________________________\n",
      "dense_1 (Dense)              (None, 2)                 34        \n",
      "=================================================================\n",
      "Total params: 1,634\n",
      "Trainable params: 1,634\n",
      "Non-trainable params: 0\n",
      "_________________________________________________________________\n"
     ]
    }
   ],
   "source": [
    "model.summary()"
   ]
  },
  {
   "cell_type": "code",
   "execution_count": null,
   "metadata": {},
   "outputs": [],
   "source": []
  }
 ],
 "metadata": {
  "kernelspec": {
   "display_name": "Python 3",
   "language": "python",
   "name": "python3"
  },
  "language_info": {
   "codemirror_mode": {
    "name": "ipython",
    "version": 3
   },
   "file_extension": ".py",
   "mimetype": "text/x-python",
   "name": "python",
   "nbconvert_exporter": "python",
   "pygments_lexer": "ipython3",
   "version": "3.6.3"
  }
 },
 "nbformat": 4,
 "nbformat_minor": 2
}
