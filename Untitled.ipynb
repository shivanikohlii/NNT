{
 "cells": [
  {
   "cell_type": "code",
   "execution_count": 30,
   "metadata": {},
   "outputs": [],
   "source": [
    "import pandas as pd\n",
    "import numpy as np\n",
    "import matplotlib.pyplot as plt\n",
    "from keras.models import Sequential\n",
    "from keras.layers import Dense, Activation\n",
    "import keras.backend as K\n",
    "import holidays\n",
    "import keras"
   ]
  },
  {
   "cell_type": "code",
   "execution_count": 5,
   "metadata": {},
   "outputs": [],
   "source": [
    "data = pd.read_excel('GEFcom2014Data/GEFCom2014-E.xlsx', skiprows =range(1,17545))"
   ]
  },
  {
   "cell_type": "code",
   "execution_count": 8,
   "metadata": {},
   "outputs": [],
   "source": [
    "data['month'] = np.cos(2*np.pi*data.Date.dt.month / 12)\n",
    "data['dow'] = np.cos(2*np.pi*data.Date.dt.dayofweek / 7)\n",
    "data['hour'] = np.cos(2*np.pi*data.Date.dt.hour/24)\n",
    "us_holiday = holidays.US()\n",
    "data['is_holiday'] = 1 * data.Date.dt.date.apply(lambda x: x in us_holiday)\n",
    "data.drop(['Date', 'Hour'],1, inplace=True)\n",
    "c = list(data.columns)\n",
    "c = c[1:] + c[:1]\n",
    "data = data[c]\n",
    "c = list(data.columns)\n",
    "c = c[1:] + c[:1]\n",
    "data = data[c]\n",
    "data['CDD'] =  np.maximum(data.Temperature-65,0)\n",
    "data['HDD'] = np.maximum(65 - data.Temperature,0)\n",
    "scale = data.load.std()\n",
    "offset = data.load.mean()\n",
    "data.load = (data.load - offset) / scale"
   ]
  },
  {
   "cell_type": "code",
   "execution_count": 62,
   "metadata": {},
   "outputs": [],
   "source": [
    "def tilted_loss(q,y,f):\n",
    "    q = K.arange(1, 100, 10, dtype=np.float32)/100\n",
    "    q = K.reshape(q,(1,-1))\n",
    "    e = (y-f)\n",
    "    return K.mean(K.maximum(q*e, (q-1)*e), axis=-1)"
   ]
  },
  {
   "cell_type": "code",
   "execution_count": 10,
   "metadata": {},
   "outputs": [],
   "source": [
    "train = data[:7*len(data)//8]\n",
    "# val = df[3*len(df)//4:7*len(df)//8]\n",
    "test = data[7*len(data)//8:]\n",
    "nt = np.array(train)\n",
    "# nv = np.array(val)\n",
    "ntt = np.array(test)\n",
    "x_train = nt[:,:-1]\n",
    "y_train = nt[:,-1]"
   ]
  },
  {
   "cell_type": "code",
   "execution_count": 11,
   "metadata": {},
   "outputs": [],
   "source": [
    "def row2seq_rnn(data, ys, history=24, future = 0):\n",
    "    xl = []\n",
    "    xff = []\n",
    "    yl = []\n",
    "    yf = []\n",
    "    for i in np.arange(history+1, len(data)-max(future,1)):\n",
    "        tmp1 = data[i-history:i+1]\n",
    "        tmp2 = ys[i-history-1:i].reshape(-1,1)\n",
    "        xl.append(np.append(tmp1, tmp2, axis=1))\n",
    "        xff.append(data[i+1:i+future+1])\n",
    "        yl.append(ys[i])\n",
    "        yf.append(ys[i:i+future])\n",
    "    return np.array(xl), np.array(xff), np.array(yl), np.array(yf)"
   ]
  },
  {
   "cell_type": "code",
   "execution_count": 12,
   "metadata": {},
   "outputs": [],
   "source": [
    "xt, xtf, yt, ytf = row2seq_rnn(x_train, y_train, history=24, future=1)\n",
    "#xv, xvf, yv, yvf = row2seq_rnn(x_val, y_val, history=24, future=24)\n",
    "xtt, xttf, ytt, yttf = row2seq_rnn(np.array(test)[:,:-1], np.array(test)[:,-1], history=24, future=1)\n"
   ]
  },
  {
   "cell_type": "code",
   "execution_count": 63,
   "metadata": {},
   "outputs": [],
   "source": [
    "\n",
    "layer = 2\n",
    "hiddenU = 32\n",
    "val_dictionary = {}\n",
    "model = keras.models.Sequential(name = 'LSTM')\n",
    "model.add(keras.layers.LSTM(hiddenU, input_shape = xt.shape[1:], return_sequences = layer > 1))\n",
    "for i in range(layer-1):\n",
    "    model.add(keras.layers.LSTM(hiddenU, return_sequences = i < layer-2))\n",
    "model.add(Dense(10))\n",
    "adam = keras.optimizers.Adam(lr=0.001, beta_1=0.9, beta_2=0.999, epsilon=1e-08, decay=1e-4)\n",
    "model.compile(loss=lambda y, yp: tilted_loss(q,y, yp), optimizer = 'adam')"
   ]
  },
  {
   "cell_type": "code",
   "execution_count": 64,
   "metadata": {
    "scrolled": true
   },
   "outputs": [
    {
     "name": "stdout",
     "output_type": "stream",
     "text": [
      "Epoch 1/20\n",
      "69001/69001 [==============================] - 11s 163us/step - loss: 7.7781\n",
      "Epoch 2/20\n",
      "69001/69001 [==============================] - 8s 118us/step - loss: 6.3901\n",
      "Epoch 3/20\n",
      "69001/69001 [==============================] - 8s 122us/step - loss: 5.4532\n",
      "Epoch 4/20\n",
      "69001/69001 [==============================] - 9s 125us/step - loss: 4.6727\n",
      "Epoch 5/20\n",
      "69001/69001 [==============================] - 9s 134us/step - loss: 3.9998\n",
      "Epoch 6/20\n",
      "69001/69001 [==============================] - 10s 142us/step - loss: 3.4174\n",
      "Epoch 7/20\n",
      "69001/69001 [==============================] - 9s 135us/step - loss: 2.9117\n",
      "Epoch 8/20\n",
      "69001/69001 [==============================] - 9s 136us/step - loss: 2.4703\n",
      "Epoch 9/20\n",
      "69001/69001 [==============================] - 9s 133us/step - loss: 2.0894\n",
      "Epoch 10/20\n",
      "69001/69001 [==============================] - 9s 133us/step - loss: 1.7613\n",
      "Epoch 11/20\n",
      "69001/69001 [==============================] - 9s 134us/step - loss: 1.4816\n",
      "Epoch 12/20\n",
      "69001/69001 [==============================] - 9s 130us/step - loss: 1.2369\n",
      "Epoch 13/20\n",
      "69001/69001 [==============================] - 9s 133us/step - loss: 1.0332\n",
      "Epoch 14/20\n",
      "69001/69001 [==============================] - 9s 132us/step - loss: 0.8705\n",
      "Epoch 15/20\n",
      "69001/69001 [==============================] - 9s 131us/step - loss: 0.7442\n",
      "Epoch 16/20\n",
      "69001/69001 [==============================] - 9s 131us/step - loss: 0.6410\n",
      "Epoch 17/20\n",
      "69001/69001 [==============================] - 9s 131us/step - loss: 0.5555\n",
      "Epoch 18/20\n",
      "69001/69001 [==============================] - 10s 139us/step - loss: 0.4855\n",
      "Epoch 19/20\n",
      "69001/69001 [==============================] - 9s 133us/step - loss: 0.4268\n",
      "Epoch 20/20\n",
      "69001/69001 [==============================] - 10s 138us/step - loss: 0.3767\n"
     ]
    },
    {
     "data": {
      "text/plain": [
       "<keras.callbacks.History at 0x1833993b38>"
      ]
     },
     "execution_count": 64,
     "metadata": {},
     "output_type": "execute_result"
    }
   ],
   "source": [
    "model.fit(xt,yt, epochs=20, batch_size=768, verbose=1)\n",
    "    "
   ]
  },
  {
   "cell_type": "code",
   "execution_count": 65,
   "metadata": {},
   "outputs": [],
   "source": [
    "p = model.predict (xtt)"
   ]
  },
  {
   "cell_type": "code",
   "execution_count": 70,
   "metadata": {},
   "outputs": [
    {
     "data": {
      "text/plain": [
       "(9835, 10)"
      ]
     },
     "execution_count": 70,
     "metadata": {},
     "output_type": "execute_result"
    }
   ],
   "source": [
    "np.array(p).shape"
   ]
  },
  {
   "cell_type": "code",
   "execution_count": 69,
   "metadata": {},
   "outputs": [
    {
     "data": {
      "text/plain": [
       "(9835, 1)"
      ]
     },
     "execution_count": 69,
     "metadata": {},
     "output_type": "execute_result"
    }
   ],
   "source": [
    "yttf.shape"
   ]
  },
  {
   "cell_type": "code",
   "execution_count": 88,
   "metadata": {},
   "outputs": [],
   "source": [
    "t_test = (np.arange(1, 100, 10, dtype=np.float32)/100)"
   ]
  },
  {
   "cell_type": "code",
   "execution_count": 92,
   "metadata": {},
   "outputs": [
    {
     "data": {
      "image/png": "[encoded data removed]",
      "text/plain": [
       "<matplotlib.figure.Figure at 0x183655b320>"
      ]
     },
     "metadata": {},
     "output_type": "display_data"
    }
   ],
   "source": [
    "_ = plt.plot(p)"
   ]
  },
  {
   "cell_type": "code",
   "execution_count": null,
   "metadata": {},
   "outputs": [],
   "source": []
  }
 ],
 "metadata": {
  "kernelspec": {
   "display_name": "Python 3",
   "language": "python",
   "name": "python3"
  },
  "language_info": {
   "codemirror_mode": {
    "name": "ipython",
    "version": 3
   },
   "file_extension": ".py",
   "mimetype": "text/x-python",
   "name": "python",
   "nbconvert_exporter": "python",
   "pygments_lexer": "ipython3",
   "version": "3.6.3"
  }
 },
 "nbformat": 4,
 "nbformat_minor": 2
}
